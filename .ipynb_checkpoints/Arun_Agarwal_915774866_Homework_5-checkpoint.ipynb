{
 "cells": [
  {
   "cell_type": "markdown",
   "id": "a7468274",
   "metadata": {},
   "source": [
    "## Assignment 5:"
   ]
  },
  {
   "cell_type": "markdown",
   "id": "2d89f30b",
   "metadata": {},
   "source": [
    "### Arun Agarwal\n",
    "#### 915774866\n",
    "### Homework 5\n",
    "2/16/2022 - 2/19/2022"
   ]
  },
  {
   "cell_type": "markdown",
   "id": "67f46d79",
   "metadata": {},
   "source": [
    "### Problem 1:\n",
    "Download Census Income data set from UCI repository - link is https://archive.ics.uci.edu/ml/datasets/census+income (Links to an external site.)\n",
    "\n",
    "Use training data to develop a model aimed to determine whether a person makes over 50K a year.\n",
    "\n",
    "Solve this problem using the k-nearest neighbors’ method with k=3 and k=9 and report F1 score on test data."
   ]
  },
  {
   "cell_type": "code",
   "execution_count": 33,
   "id": "1ad390c0",
   "metadata": {},
   "outputs": [],
   "source": [
    "#Imports:\n",
    "import pandas as pd\n",
    "from sklearn.model_selection import train_test_split\n",
    "from sklearn.metrics import roc_auc_score, accuracy_score, roc_curve, auc\n",
    "from sklearn.tree import DecisionTreeClassifier\n",
    "from sklearn.neural_network import MLPClassifier\n",
    "import matplotlib.pyplot as plt\n",
    "import numpy as np\n",
    "from sklearn.neighbors import KNeighborsClassifier\n",
    "from sklearn.metrics import f1_score"
   ]
  },
  {
   "cell_type": "code",
   "execution_count": 4,
   "id": "0813f80d",
   "metadata": {},
   "outputs": [
    {
     "name": "stdout",
     "output_type": "stream",
     "text": [
      "Length of Census Dataset:  32561\n",
      "Features with missing values: \n",
      " age                  0\n",
      "workclass         1836\n",
      "fnlwgt               0\n",
      "education            0\n",
      "education-num        0\n",
      "marital status       0\n",
      "occupation        1843\n",
      "relationship         0\n",
      "race                 0\n",
      "sex                  0\n",
      "capital-gain         0\n",
      "capital-loss         0\n",
      "hours-per-week       0\n",
      "native-country     583\n",
      "target               0\n",
      "dtype: int64\n"
     ]
    }
   ],
   "source": [
    "# I will start by doing data preprocessing/cleaning. I noticed that the site said there was missing values in the dataset:\n",
    "census = pd.read_csv('adult.data', names = ['age', 'workclass', 'fnlwgt', 'education', 'education-num', 'marital status', 'occupation', 'relationship', 'race', 'sex', 'capital-gain', 'capital-loss', 'hours-per-week', 'native-country', 'target'])\n",
    "print(\"Length of Census Dataset: \", len(census))\n",
    "\n",
    "#Replacing missing values with nan:\n",
    "census = census.replace(' ?', np.nan)\n",
    "\n",
    "#Finding out which features contain missing values:\n",
    "print(\"Features with missing values: \\n\", census.isnull().sum())"
   ]
  },
  {
   "cell_type": "markdown",
   "id": "4f515f61",
   "metadata": {},
   "source": [
    "Therefore, we see the features with missing values are merely workclass, occupation, and native-country. Since these features are important, we cannot just remove them totally. At the same time, we have a lot of data available to us (32561 instances), so it seems okay to simply remove the rows/instances with null values. We could try to fill these values using average values/mode, but in this case, that seems like falsification of data. Furthermore, the instructions did not specify that we should deal with missing values a certain way, so I will do this by simply removing the instances with null values"
   ]
  },
  {
   "cell_type": "code",
   "execution_count": 6,
   "id": "f55b7754",
   "metadata": {},
   "outputs": [
    {
     "data": {
      "text/html": [
       "<div>\n",
       "<style scoped>\n",
       "    .dataframe tbody tr th:only-of-type {\n",
       "        vertical-align: middle;\n",
       "    }\n",
       "\n",
       "    .dataframe tbody tr th {\n",
       "        vertical-align: top;\n",
       "    }\n",
       "\n",
       "    .dataframe thead th {\n",
       "        text-align: right;\n",
       "    }\n",
       "</style>\n",
       "<table border=\"1\" class=\"dataframe\">\n",
       "  <thead>\n",
       "    <tr style=\"text-align: right;\">\n",
       "      <th></th>\n",
       "      <th>age</th>\n",
       "      <th>workclass</th>\n",
       "      <th>fnlwgt</th>\n",
       "      <th>education</th>\n",
       "      <th>education-num</th>\n",
       "      <th>marital status</th>\n",
       "      <th>occupation</th>\n",
       "      <th>relationship</th>\n",
       "      <th>race</th>\n",
       "      <th>sex</th>\n",
       "      <th>capital-gain</th>\n",
       "      <th>capital-loss</th>\n",
       "      <th>hours-per-week</th>\n",
       "      <th>native-country</th>\n",
       "      <th>target</th>\n",
       "    </tr>\n",
       "  </thead>\n",
       "  <tbody>\n",
       "    <tr>\n",
       "      <th>0</th>\n",
       "      <td>39</td>\n",
       "      <td>State-gov</td>\n",
       "      <td>77516</td>\n",
       "      <td>Bachelors</td>\n",
       "      <td>13</td>\n",
       "      <td>Never-married</td>\n",
       "      <td>Adm-clerical</td>\n",
       "      <td>Not-in-family</td>\n",
       "      <td>White</td>\n",
       "      <td>Male</td>\n",
       "      <td>2174</td>\n",
       "      <td>0</td>\n",
       "      <td>40</td>\n",
       "      <td>United-States</td>\n",
       "      <td>&lt;=50K</td>\n",
       "    </tr>\n",
       "    <tr>\n",
       "      <th>1</th>\n",
       "      <td>50</td>\n",
       "      <td>Self-emp-not-inc</td>\n",
       "      <td>83311</td>\n",
       "      <td>Bachelors</td>\n",
       "      <td>13</td>\n",
       "      <td>Married-civ-spouse</td>\n",
       "      <td>Exec-managerial</td>\n",
       "      <td>Husband</td>\n",
       "      <td>White</td>\n",
       "      <td>Male</td>\n",
       "      <td>0</td>\n",
       "      <td>0</td>\n",
       "      <td>13</td>\n",
       "      <td>United-States</td>\n",
       "      <td>&lt;=50K</td>\n",
       "    </tr>\n",
       "    <tr>\n",
       "      <th>2</th>\n",
       "      <td>38</td>\n",
       "      <td>Private</td>\n",
       "      <td>215646</td>\n",
       "      <td>HS-grad</td>\n",
       "      <td>9</td>\n",
       "      <td>Divorced</td>\n",
       "      <td>Handlers-cleaners</td>\n",
       "      <td>Not-in-family</td>\n",
       "      <td>White</td>\n",
       "      <td>Male</td>\n",
       "      <td>0</td>\n",
       "      <td>0</td>\n",
       "      <td>40</td>\n",
       "      <td>United-States</td>\n",
       "      <td>&lt;=50K</td>\n",
       "    </tr>\n",
       "    <tr>\n",
       "      <th>3</th>\n",
       "      <td>53</td>\n",
       "      <td>Private</td>\n",
       "      <td>234721</td>\n",
       "      <td>11th</td>\n",
       "      <td>7</td>\n",
       "      <td>Married-civ-spouse</td>\n",
       "      <td>Handlers-cleaners</td>\n",
       "      <td>Husband</td>\n",
       "      <td>Black</td>\n",
       "      <td>Male</td>\n",
       "      <td>0</td>\n",
       "      <td>0</td>\n",
       "      <td>40</td>\n",
       "      <td>United-States</td>\n",
       "      <td>&lt;=50K</td>\n",
       "    </tr>\n",
       "    <tr>\n",
       "      <th>4</th>\n",
       "      <td>28</td>\n",
       "      <td>Private</td>\n",
       "      <td>338409</td>\n",
       "      <td>Bachelors</td>\n",
       "      <td>13</td>\n",
       "      <td>Married-civ-spouse</td>\n",
       "      <td>Prof-specialty</td>\n",
       "      <td>Wife</td>\n",
       "      <td>Black</td>\n",
       "      <td>Female</td>\n",
       "      <td>0</td>\n",
       "      <td>0</td>\n",
       "      <td>40</td>\n",
       "      <td>Cuba</td>\n",
       "      <td>&lt;=50K</td>\n",
       "    </tr>\n",
       "    <tr>\n",
       "      <th>...</th>\n",
       "      <td>...</td>\n",
       "      <td>...</td>\n",
       "      <td>...</td>\n",
       "      <td>...</td>\n",
       "      <td>...</td>\n",
       "      <td>...</td>\n",
       "      <td>...</td>\n",
       "      <td>...</td>\n",
       "      <td>...</td>\n",
       "      <td>...</td>\n",
       "      <td>...</td>\n",
       "      <td>...</td>\n",
       "      <td>...</td>\n",
       "      <td>...</td>\n",
       "      <td>...</td>\n",
       "    </tr>\n",
       "    <tr>\n",
       "      <th>32556</th>\n",
       "      <td>27</td>\n",
       "      <td>Private</td>\n",
       "      <td>257302</td>\n",
       "      <td>Assoc-acdm</td>\n",
       "      <td>12</td>\n",
       "      <td>Married-civ-spouse</td>\n",
       "      <td>Tech-support</td>\n",
       "      <td>Wife</td>\n",
       "      <td>White</td>\n",
       "      <td>Female</td>\n",
       "      <td>0</td>\n",
       "      <td>0</td>\n",
       "      <td>38</td>\n",
       "      <td>United-States</td>\n",
       "      <td>&lt;=50K</td>\n",
       "    </tr>\n",
       "    <tr>\n",
       "      <th>32557</th>\n",
       "      <td>40</td>\n",
       "      <td>Private</td>\n",
       "      <td>154374</td>\n",
       "      <td>HS-grad</td>\n",
       "      <td>9</td>\n",
       "      <td>Married-civ-spouse</td>\n",
       "      <td>Machine-op-inspct</td>\n",
       "      <td>Husband</td>\n",
       "      <td>White</td>\n",
       "      <td>Male</td>\n",
       "      <td>0</td>\n",
       "      <td>0</td>\n",
       "      <td>40</td>\n",
       "      <td>United-States</td>\n",
       "      <td>&gt;50K</td>\n",
       "    </tr>\n",
       "    <tr>\n",
       "      <th>32558</th>\n",
       "      <td>58</td>\n",
       "      <td>Private</td>\n",
       "      <td>151910</td>\n",
       "      <td>HS-grad</td>\n",
       "      <td>9</td>\n",
       "      <td>Widowed</td>\n",
       "      <td>Adm-clerical</td>\n",
       "      <td>Unmarried</td>\n",
       "      <td>White</td>\n",
       "      <td>Female</td>\n",
       "      <td>0</td>\n",
       "      <td>0</td>\n",
       "      <td>40</td>\n",
       "      <td>United-States</td>\n",
       "      <td>&lt;=50K</td>\n",
       "    </tr>\n",
       "    <tr>\n",
       "      <th>32559</th>\n",
       "      <td>22</td>\n",
       "      <td>Private</td>\n",
       "      <td>201490</td>\n",
       "      <td>HS-grad</td>\n",
       "      <td>9</td>\n",
       "      <td>Never-married</td>\n",
       "      <td>Adm-clerical</td>\n",
       "      <td>Own-child</td>\n",
       "      <td>White</td>\n",
       "      <td>Male</td>\n",
       "      <td>0</td>\n",
       "      <td>0</td>\n",
       "      <td>20</td>\n",
       "      <td>United-States</td>\n",
       "      <td>&lt;=50K</td>\n",
       "    </tr>\n",
       "    <tr>\n",
       "      <th>32560</th>\n",
       "      <td>52</td>\n",
       "      <td>Self-emp-inc</td>\n",
       "      <td>287927</td>\n",
       "      <td>HS-grad</td>\n",
       "      <td>9</td>\n",
       "      <td>Married-civ-spouse</td>\n",
       "      <td>Exec-managerial</td>\n",
       "      <td>Wife</td>\n",
       "      <td>White</td>\n",
       "      <td>Female</td>\n",
       "      <td>15024</td>\n",
       "      <td>0</td>\n",
       "      <td>40</td>\n",
       "      <td>United-States</td>\n",
       "      <td>&gt;50K</td>\n",
       "    </tr>\n",
       "  </tbody>\n",
       "</table>\n",
       "<p>30162 rows × 15 columns</p>\n",
       "</div>"
      ],
      "text/plain": [
       "       age          workclass  fnlwgt    education  education-num  \\\n",
       "0       39          State-gov   77516    Bachelors             13   \n",
       "1       50   Self-emp-not-inc   83311    Bachelors             13   \n",
       "2       38            Private  215646      HS-grad              9   \n",
       "3       53            Private  234721         11th              7   \n",
       "4       28            Private  338409    Bachelors             13   \n",
       "...    ...                ...     ...          ...            ...   \n",
       "32556   27            Private  257302   Assoc-acdm             12   \n",
       "32557   40            Private  154374      HS-grad              9   \n",
       "32558   58            Private  151910      HS-grad              9   \n",
       "32559   22            Private  201490      HS-grad              9   \n",
       "32560   52       Self-emp-inc  287927      HS-grad              9   \n",
       "\n",
       "            marital status          occupation    relationship    race  \\\n",
       "0            Never-married        Adm-clerical   Not-in-family   White   \n",
       "1       Married-civ-spouse     Exec-managerial         Husband   White   \n",
       "2                 Divorced   Handlers-cleaners   Not-in-family   White   \n",
       "3       Married-civ-spouse   Handlers-cleaners         Husband   Black   \n",
       "4       Married-civ-spouse      Prof-specialty            Wife   Black   \n",
       "...                    ...                 ...             ...     ...   \n",
       "32556   Married-civ-spouse        Tech-support            Wife   White   \n",
       "32557   Married-civ-spouse   Machine-op-inspct         Husband   White   \n",
       "32558              Widowed        Adm-clerical       Unmarried   White   \n",
       "32559        Never-married        Adm-clerical       Own-child   White   \n",
       "32560   Married-civ-spouse     Exec-managerial            Wife   White   \n",
       "\n",
       "           sex  capital-gain  capital-loss  hours-per-week  native-country  \\\n",
       "0         Male          2174             0              40   United-States   \n",
       "1         Male             0             0              13   United-States   \n",
       "2         Male             0             0              40   United-States   \n",
       "3         Male             0             0              40   United-States   \n",
       "4       Female             0             0              40            Cuba   \n",
       "...        ...           ...           ...             ...             ...   \n",
       "32556   Female             0             0              38   United-States   \n",
       "32557     Male             0             0              40   United-States   \n",
       "32558   Female             0             0              40   United-States   \n",
       "32559     Male             0             0              20   United-States   \n",
       "32560   Female         15024             0              40   United-States   \n",
       "\n",
       "       target  \n",
       "0       <=50K  \n",
       "1       <=50K  \n",
       "2       <=50K  \n",
       "3       <=50K  \n",
       "4       <=50K  \n",
       "...       ...  \n",
       "32556   <=50K  \n",
       "32557    >50K  \n",
       "32558   <=50K  \n",
       "32559   <=50K  \n",
       "32560    >50K  \n",
       "\n",
       "[30162 rows x 15 columns]"
      ]
     },
     "execution_count": 6,
     "metadata": {},
     "output_type": "execute_result"
    }
   ],
   "source": [
    "#Dropping nan values:\n",
    "census = census.dropna()\n",
    "\n",
    "#Viewing the Dataset as of now:\n",
    "census"
   ]
  },
  {
   "cell_type": "markdown",
   "id": "431e88e4",
   "metadata": {},
   "source": [
    "For my own reference, this is a list of the possible values for each feature of the dataset, provided by https://archive.ics.uci.edu/ml/datasets/census+income:\n",
    "\n",
    "- age: continuous.\n",
    "- workclass: Private, Self-emp-not-inc, Self-emp-inc, Federal-gov, Local-gov, State-gov, Without-pay, Never-worked.\n",
    "- fnlwgt: continuous.\n",
    "- education: Bachelors, Some-college, 11th, HS-grad, Prof-school, Assoc-acdm, Assoc-voc, 9th, 7th-8th, 12th, Masters, 1st-4th, 10th, Doctorate, 5th-6th, Preschool.\n",
    "- education-num: continuous.\n",
    "- marital-status: Married-civ-spouse, Divorced, Never-married, Separated, Widowed, Married-spouse-absent, Married-AF-spouse.\n",
    "- occupation: Tech-support, Craft-repair, Other-service, Sales, Exec-managerial, Prof-specialty, Handlers-cleaners, Machine-op-inspct, Adm-clerical, Farming-fishing, Transport-moving, Priv-house-serv, Protective-serv, Armed-Forces.\n",
    "- relationship: Wife, Own-child, Husband, Not-in-family, Other-relative, Unmarried.\n",
    "- race: White, Asian-Pac-Islander, Amer-Indian-Eskimo, Other, Black.\n",
    "- sex: Female, Male.\n",
    "- capital-gain: continuous.\n",
    "- capital-loss: continuous.\n",
    "- hours-per-week: continuous.\n",
    "- native-country: United-States, Cambodia, England, Puerto-Rico, Canada, Germany, Outlying-US(Guam-USVI-etc), India, Japan, Greece, South, China, Cuba, Iran, Honduras, Philippines, Italy, Poland, Jamaica, Vietnam, Mexico, Portugal, Ireland, France, Dominican-Republic, Laos, Ecuador, Taiwan, Haiti, Columbia, Hungary, Guatemala, Nicaragua, Scotland, Thailand, Yugoslavia, El-Salvador, Trinadad&Tobago, Peru, Hong, Holand-Netherlands.\n",
    "\n",
    "Target Column: >50k, <=50k"
   ]
  },
  {
   "cell_type": "code",
   "execution_count": 9,
   "id": "4cb99f30",
   "metadata": {},
   "outputs": [
    {
     "name": "stdout",
     "output_type": "stream",
     "text": [
      "<class 'pandas.core.frame.DataFrame'>\n",
      "Int64Index: 30162 entries, 0 to 32560\n",
      "Data columns (total 15 columns):\n",
      " #   Column          Non-Null Count  Dtype \n",
      "---  ------          --------------  ----- \n",
      " 0   age             30162 non-null  int64 \n",
      " 1   workclass       30162 non-null  object\n",
      " 2   fnlwgt          30162 non-null  int64 \n",
      " 3   education       30162 non-null  object\n",
      " 4   education-num   30162 non-null  int64 \n",
      " 5   marital status  30162 non-null  object\n",
      " 6   occupation      30162 non-null  object\n",
      " 7   relationship    30162 non-null  object\n",
      " 8   race            30162 non-null  object\n",
      " 9   sex             30162 non-null  object\n",
      " 10  capital-gain    30162 non-null  int64 \n",
      " 11  capital-loss    30162 non-null  int64 \n",
      " 12  hours-per-week  30162 non-null  int64 \n",
      " 13  native-country  30162 non-null  object\n",
      " 14  target          30162 non-null  object\n",
      "dtypes: int64(6), object(9)\n",
      "memory usage: 3.7+ MB\n"
     ]
    }
   ],
   "source": [
    "#Getting some more info on the dataset:\n",
    "census.info()"
   ]
  },
  {
   "cell_type": "markdown",
   "id": "91382acd",
   "metadata": {},
   "source": [
    "We now see that there are numerous integer-value features, but also many categorical features, which would probably be good to change using a labelencoder/dummy encoder."
   ]
  },
  {
   "cell_type": "code",
   "execution_count": 49,
   "id": "7de990c1",
   "metadata": {
    "scrolled": true
   },
   "outputs": [
    {
     "name": "stdout",
     "output_type": "stream",
     "text": [
      "X: \n",
      "        fnlwgt  education-num  capital-gain  capital-loss  hours-per-week  \\\n",
      "0       77516             13          2174             0              40   \n",
      "1       83311             13             0             0              13   \n",
      "2      215646              9             0             0              40   \n",
      "3      234721              7             0             0              40   \n",
      "4      338409             13             0             0              40   \n",
      "...       ...            ...           ...           ...             ...   \n",
      "32556  257302             12             0             0              38   \n",
      "32557  154374              9             0             0              40   \n",
      "32558  151910              9             0             0              40   \n",
      "32559  201490              9             0             0              20   \n",
      "32560  287927              9         15024             0              40   \n",
      "\n",
      "       workclass_ Federal-gov  workclass_ Local-gov  workclass_ Private  \\\n",
      "0                           0                     0                   0   \n",
      "1                           0                     0                   0   \n",
      "2                           0                     0                   1   \n",
      "3                           0                     0                   1   \n",
      "4                           0                     0                   1   \n",
      "...                       ...                   ...                 ...   \n",
      "32556                       0                     0                   1   \n",
      "32557                       0                     0                   1   \n",
      "32558                       0                     0                   1   \n",
      "32559                       0                     0                   1   \n",
      "32560                       0                     0                   0   \n",
      "\n",
      "       workclass_ Self-emp-inc  workclass_ Self-emp-not-inc  ...  \\\n",
      "0                            0                            0  ...   \n",
      "1                            0                            1  ...   \n",
      "2                            0                            0  ...   \n",
      "3                            0                            0  ...   \n",
      "4                            0                            0  ...   \n",
      "...                        ...                          ...  ...   \n",
      "32556                        0                            0  ...   \n",
      "32557                        0                            0  ...   \n",
      "32558                        0                            0  ...   \n",
      "32559                        0                            0  ...   \n",
      "32560                        1                            0  ...   \n",
      "\n",
      "       native-country_ Portugal  native-country_ Puerto-Rico  \\\n",
      "0                             0                            0   \n",
      "1                             0                            0   \n",
      "2                             0                            0   \n",
      "3                             0                            0   \n",
      "4                             0                            0   \n",
      "...                         ...                          ...   \n",
      "32556                         0                            0   \n",
      "32557                         0                            0   \n",
      "32558                         0                            0   \n",
      "32559                         0                            0   \n",
      "32560                         0                            0   \n",
      "\n",
      "       native-country_ Scotland  native-country_ South  \\\n",
      "0                             0                      0   \n",
      "1                             0                      0   \n",
      "2                             0                      0   \n",
      "3                             0                      0   \n",
      "4                             0                      0   \n",
      "...                         ...                    ...   \n",
      "32556                         0                      0   \n",
      "32557                         0                      0   \n",
      "32558                         0                      0   \n",
      "32559                         0                      0   \n",
      "32560                         0                      0   \n",
      "\n",
      "       native-country_ Taiwan  native-country_ Thailand  \\\n",
      "0                           0                         0   \n",
      "1                           0                         0   \n",
      "2                           0                         0   \n",
      "3                           0                         0   \n",
      "4                           0                         0   \n",
      "...                       ...                       ...   \n",
      "32556                       0                         0   \n",
      "32557                       0                         0   \n",
      "32558                       0                         0   \n",
      "32559                       0                         0   \n",
      "32560                       0                         0   \n",
      "\n",
      "       native-country_ Trinadad&Tobago  native-country_ United-States  \\\n",
      "0                                    0                              1   \n",
      "1                                    0                              1   \n",
      "2                                    0                              1   \n",
      "3                                    0                              1   \n",
      "4                                    0                              0   \n",
      "...                                ...                            ...   \n",
      "32556                                0                              1   \n",
      "32557                                0                              1   \n",
      "32558                                0                              1   \n",
      "32559                                0                              1   \n",
      "32560                                0                              1   \n",
      "\n",
      "       native-country_ Vietnam  native-country_ Yugoslavia  \n",
      "0                            0                           0  \n",
      "1                            0                           0  \n",
      "2                            0                           0  \n",
      "3                            0                           0  \n",
      "4                            0                           0  \n",
      "...                        ...                         ...  \n",
      "32556                        0                           0  \n",
      "32557                        0                           0  \n",
      "32558                        0                           0  \n",
      "32559                        0                           0  \n",
      "32560                        0                           0  \n",
      "\n",
      "[30162 rows x 103 columns]\n",
      "y: \n",
      " 0        0\n",
      "1        0\n",
      "2        0\n",
      "3        0\n",
      "4        0\n",
      "        ..\n",
      "32556    0\n",
      "32557    1\n",
      "32558    0\n",
      "32559    0\n",
      "32560    1\n",
      "Name: target_ >50K, Length: 30162, dtype: uint8\n"
     ]
    }
   ],
   "source": [
    "#Making dummy variables to run KNN algorithm\n",
    "census_dummy = pd.get_dummies(census)\n",
    "\n",
    "#Getting the number of features to use for separating X (features) and y (target)\n",
    "last_index = len(census_dummy.columns)\n",
    "\n",
    "X = census_dummy[census_dummy.columns[1:(last_index-2)]]\n",
    "y = census_dummy[census_dummy.columns[last_index - 1]]\n",
    "\n",
    "print(\"X: \\n\", X)\n",
    "print(\"y: \\n\", y)"
   ]
  },
  {
   "cell_type": "code",
   "execution_count": 16,
   "id": "d03cf4cd",
   "metadata": {},
   "outputs": [
    {
     "data": {
      "text/plain": [
       " <=50K    22654\n",
       " >50K      7508\n",
       "Name: target, dtype: int64"
      ]
     },
     "execution_count": 16,
     "metadata": {},
     "output_type": "execute_result"
    }
   ],
   "source": [
    "census['target'].value_counts()"
   ]
  },
  {
   "cell_type": "markdown",
   "id": "9563b41a",
   "metadata": {},
   "source": [
    "We notice that the dataset does not have an even distribution of data for the two target variable classifications. In fact, there are almost three times as many values for those with salary less than 50000 than greater than 50000. This might make our model perform poorly."
   ]
  },
  {
   "cell_type": "code",
   "execution_count": 50,
   "id": "461f7519",
   "metadata": {},
   "outputs": [
    {
     "name": "stdout",
     "output_type": "stream",
     "text": [
      "X train: (24129, 103), X test: (6033, 103)\n",
      "Y train: (24129,), Y test: (6033,)\n"
     ]
    }
   ],
   "source": [
    "#Now, we can split the dataset into training and test sets:\n",
    "# 80 - 20 split\n",
    "x_train, x_test, y_train, y_test = train_test_split(X, y, test_size = 0.2)\n",
    "\n",
    "print(\"X train: {}, X test: {}\".format(x_train.shape, x_test.shape))\n",
    "print(\"Y train: {}, Y test: {}\".format(y_train.shape, y_test.shape))"
   ]
  },
  {
   "cell_type": "code",
   "execution_count": 43,
   "id": "e459574b",
   "metadata": {},
   "outputs": [
    {
     "name": "stdout",
     "output_type": "stream",
     "text": [
      "Accuracy-Train:  0.8576401840109412\n",
      "Accuracy-Test:  0.7505387037957898\n",
      "F1 Score:  0.4275389882084443\n"
     ]
    }
   ],
   "source": [
    "#Finally, we can use the knn algorithm from sklearn:\n",
    "#As stated in the question, we should do this with 3 and 9 nearest neighbors.\n",
    "#I will start by doing this with 3 nearest neighbors\n",
    "knn3  = KNeighborsClassifier(n_neighbors = 3)\n",
    "knn3.fit(x_train, y_train)\n",
    "\n",
    "#Calculating the accuracy of the model:\n",
    "print(\"Accuracy-Train: \", knn3.score(x_train, y_train))\n",
    "print(\"Accuracy-Test: \", knn3.score(x_test, y_test))\n",
    "\n",
    "y_pred = knn3.predict(x_test)\n",
    "print(\"F1 Score: \", f1_score(y_test, y_pred))"
   ]
  },
  {
   "cell_type": "code",
   "execution_count": 44,
   "id": "a5329896",
   "metadata": {},
   "outputs": [
    {
     "name": "stdout",
     "output_type": "stream",
     "text": [
      "Accuracy-Train:  0.8069957312777156\n",
      "Accuracy-Test:  0.7812033814022874\n",
      "F1 Score:  0.3802816901408451\n"
     ]
    }
   ],
   "source": [
    "#As stated in the question, we should do this with 3 and 9 nearest neighbors.\n",
    "#I will now by doing this with 9 nearest neighbors\n",
    "knn9  = KNeighborsClassifier(n_neighbors = 9)\n",
    "knn9.fit(x_train, y_train)\n",
    "\n",
    "#Calculating the accuracy of the model:\n",
    "print(\"Accuracy-Train: \", knn9.score(x_train, y_train))\n",
    "print(\"Accuracy-Test: \", knn9.score(x_test, y_test))\n",
    "\n",
    "y_pred = knn9.predict(x_test)\n",
    "print(\"F1 Score: \", f1_score(y_test, y_pred))"
   ]
  },
  {
   "cell_type": "markdown",
   "id": "0d4e1654",
   "metadata": {},
   "source": [
    "First, looking at the accuracy scores on the testing data, we clearly see that the knn algorithm with 9 nearest neighbors performs better than the knn algorithm with 3 nearest neighbors. However, the accuracy scores on the training data show that the knn algorithm with 3 nearest neighbors performs better than the algorithm with 9 nearest neighbors. This is expected because as the K value increases, the model complexity increases, which decreases the accuracy on the training data. Thus, we try to strike a balance. Overall, the higher accuracy score for the testing data with 9 nearest neighbors generally suggests that this model did better for prediction than the 3 nearest neighbors model.\n",
    "\n",
    "Next, we examine the F1 scores. F1 score is defined as the harmonic mean between precision and recall. It is used as a statistical measure to rate performance. Thus, it is another way (and potentially more reliable way) to measure the accuracy of the models. We note that neither F1 score value is amazing: for 3 nearest neighbors, the F1 score is approximately .428, and for 9 nearest neighbors, the F1 score is approximately .380. Neither value is close to 1.0, which indicates perfect precision and recall. We note that all models will generate some false negatives and some false positives, so we should not expect a score close to 1.0. In general, the F1 Score for 3 nearest neighbors is higher than the F1 score for 9 nearest neighbors, so we can say the 9 nearest neighbors algorithm performed better. \n",
    "\n",
    "After seeing these scores, I am curious if there is an even better value we can choose. Thus, I will try and find this out below:"
   ]
  },
  {
   "cell_type": "code",
   "execution_count": 31,
   "id": "871f8a4c",
   "metadata": {},
   "outputs": [
    {
     "data": {
      "image/png": "[encoded data removed]",
      "text/plain": [
       "<Figure size 432x288 with 1 Axes>"
      ]
     },
     "metadata": {
      "needs_background": "light"
     },
     "output_type": "display_data"
    }
   ],
   "source": [
    "neighbors = np.arange(1,12)\n",
    "train_accuracy = np.empty(len(neighbors))\n",
    "test_accuracy = np.empty(len(neighbors))\n",
    "\n",
    "#Looping over the K values:\n",
    "for i, k in enumerate(neighbors):\n",
    "    knn = KNeighborsClassifier(n_neighbors = k)\n",
    "    knn.fit(x_train, y_train)\n",
    "    \n",
    "    #Computing the training and test set accuracy:\n",
    "    train_accuracy[i] = knn.score(x_train, y_train)\n",
    "    test_accuracy[i] = knn.score(x_test, y_test)\n",
    "    \n",
    "#Creating a plot to showcase the results of the test:\n",
    "plt.plot(neighbors, test_accuracy, label = 'Testing Dataset Accuracy')\n",
    "plt.plot(neighbors, train_accuracy, label = 'Training Dataset Accuracy')\n",
    "\n",
    "plt.legend()\n",
    "plt.xlabel('n-neighbors')\n",
    "plt.ylabel('Accuracy')\n",
    "plt.title('Census Data K-Value Accuracies')\n",
    "plt.show()"
   ]
  },
  {
   "cell_type": "markdown",
   "id": "5dfe71c2",
   "metadata": {},
   "source": [
    "From this, we see an expected outcome: as the number of nearest neighbors increases (as the k value increases), the training data accuracy decreases due to the increase in model complexity. At the same time, the testing dataset accuracy increases with the increase in k value. The graph appears almost symmetrical when comparing the accuracy of the training and testing data. We notice that the testing and training dataset accuracy never fall below .70, which, in my opinion, suggests that knn is doing well on the census data no matter which k value we choose (if between 1 and 12). If we want to maximize the accuracy of the testing dataset, we should probably choose 10 nearest neighbors, based on the graph above. If we want to strike a fair balance between accuracy on the training and testing data, we may want to choose a k value between 3 and 6. "
   ]
  },
  {
   "cell_type": "markdown",
   "id": "00dbead1",
   "metadata": {},
   "source": [
    "### Problem 2:\n",
    "Solve this problem using a using feed-forward neural network and report ROC on test data."
   ]
  },
  {
   "cell_type": "code",
   "execution_count": 54,
   "id": "c77451db",
   "metadata": {},
   "outputs": [
    {
     "name": "stdout",
     "output_type": "stream",
     "text": [
      "Accuracy: 0.7966185977125808\n",
      "ROC: 0.6435066703900725\n"
     ]
    }
   ],
   "source": [
    "#We will now try to predict whether a person earns over 50k or not using a feed-forward\n",
    "#neural network and reporting ROC on test data:\n",
    "\n",
    "n_net = MLPClassifier()\n",
    "census_net = n_net.fit(x_train, y_train)\n",
    "net_pred = census_net.predict(x_test)\n",
    "net_pred_prob = census_net.predict_proba(x_test)\n",
    "\n",
    "#Printing Accuracy and ROC Scores:\n",
    "print('Accuracy:', accuracy_score(y_test, net_pred))\n",
    "print('ROC:', roc_auc_score(y_test, net_pred))\n",
    "\n",
    "fpr = dict()\n",
    "tpr = dict()\n",
    "roc_auc = dict()\n",
    "for i in range(last_index - 2):\n",
    "    fpr[i], tpr[i], _ = roc_curve(y_test, net_pred)\n",
    "    roc_auc[i] = auc(fpr[i], tpr[i])"
   ]
  },
  {
   "cell_type": "markdown",
   "id": "a8366c02",
   "metadata": {},
   "source": [
    "Thus, we see that we have obtained an Accuracy score of approximately .797 and a ROC score of approximately .644, which are both relatively okay. We would like these values to be above .9, but we unfortunately do not have too much control over that."
   ]
  },
  {
   "cell_type": "code",
   "execution_count": 60,
   "id": "7fd72c7f",
   "metadata": {},
   "outputs": [
    {
     "data": {
      "image/png": "[encoded data removed]",
      "text/plain": [
       "<Figure size 432x288 with 1 Axes>"
      ]
     },
     "metadata": {
      "needs_background": "light"
     },
     "output_type": "display_data"
    }
   ],
   "source": [
    "#Feed-forward Neural Network ROC Curve:\n",
    "plt.plot(fpr[1], tpr[1])\n",
    "\n",
    "plt.title('ROC Curve: Neural Network')\n",
    "plt.xlabel('False Positive Rate')\n",
    "plt.ylabel('True Positive Rate')\n",
    "plt.show()"
   ]
  },
  {
   "cell_type": "markdown",
   "id": "2489ccda",
   "metadata": {},
   "source": [
    "This ROC Curve shows us the tradeoff between sensitivity (or TPR) and specificity (1 - FPR). Classifiers that give curves closer to the top left corner indicate a better performance. The closer the curve comes to the 45-degree diagonal of the ROC space, the less accurate the test. Thus, we see that our test was unfortunately pretty inaccurate. "
   ]
  },
  {
   "cell_type": "markdown",
   "id": "a18ca907",
   "metadata": {},
   "source": [
    "### Problem 3:\n",
    "Consider a data set containing four points located at the corners of the square. The two points on one diagonal belong to one class, and the two points on the other diagonal belong to the other class. Is this data set linearly separable? Provide a proof."
   ]
  },
  {
   "cell_type": "markdown",
   "id": "bf619019",
   "metadata": {},
   "source": [
    "This datasrt contains four poitns located at the corners of a square. Therefore, we are dealing with 2-dimensional data. The two points on one diagonal belong to one class, and the two points on the other diagonal belong to the other class, as shown below:"
   ]
  },
  {
   "attachments": {
    "square.png": {
     "image/png": "[encoded data removed]"
    }
   },
   "cell_type": "markdown",
   "id": "9e572c40",
   "metadata": {},
   "source": [
    "![square.png](attachment:square.png)"
   ]
  },
  {
   "attachments": {
    "linearly%20separable.png": {
     "image/png": "[encoded data removed]"
    }
   },
   "cell_type": "markdown",
   "id": "9e100f89",
   "metadata": {},
   "source": [
    "We show that this dataset is not linearly separable. First, we will call one of the two sets containing two points that make up the diagonal of the square X0 and the other set X1. In a n-dimensional Euclidean space, the two sets are linearly separable if there exists n+1 real numbers w1, w2, ...., wn, k such that:\n",
    "![linearly%20separable.png](attachment:linearly%20separable.png)"
   ]
  },
  {
   "attachments": {
    "svm%20loss%20function.png": {
     "image/png": "[encoded data removed]"
    }
   },
   "cell_type": "markdown",
   "id": "440dbc59",
   "metadata": {},
   "source": [
    "Graphically, X0 and X1 are linearly separable if there exist a line (since this is 2-dimensional data) that separates them. However, we can intuitively see that this cannot be the case with our dataset.\n",
    "\n",
    "\n",
    "\n",
    "Support Vector Machines with linear kernel find the longest margin that separates the training data. For a loss function of a SVM with a linear kernel, if we set the C hyperparameter to a large number, we force the optimizer to make 0 error in classification in order to minimize the loss function. Thus, we overfit the data. If we are capable of overfitting the data with a linear model, that means the data is linearly separable. We note that the below function is the SVM Loss Function:\n",
    "![svm%20loss%20function.png](attachment:svm%20loss%20function.png)"
   ]
  },
  {
   "cell_type": "markdown",
   "id": "065875ab",
   "metadata": {},
   "source": [
    "The recipe to check for linear separability is:\n",
    "1. Instantiate a SVM with a big C hyperparameter (use sklearn for ease).\n",
    "2. Train the model with your data.\n",
    "3. Classify the train set with your newly trained SVM.\n",
    "4. If you get 100% accuracy on classification, congratulations! Your data is linearly separable."
   ]
  },
  {
   "cell_type": "markdown",
   "id": "0488e4c0",
   "metadata": {},
   "source": [
    "we are dealing with 2-dimensional data, and the only way for 2-dimensional data to be linearly separable is if there exists a line that separates them. However, one notices that, no matter what line is drawn, the data cannot split the two classes with a straight line. Due to the nature of a square, it will always be the case that at least three points will lie on one side of the line and at most one on the other. Since each class only contains two points, we cannot linearly separate the data."
   ]
  },
  {
   "cell_type": "markdown",
   "id": "02774b54",
   "metadata": {},
   "source": [
    "### Problem 4:\n",
    "(a) Suppose the fraction of undergraduate students who smoke is 15% and the fraction of graduate students who smoke is 23%. If one-fifth of the college students are graduate students and the rest are undergraduates, what is the probability that a student who smokes is a graduate student?\n",
    "\n",
    "(b) Given the information in part (a), is a randomly chosen college student more likely to be a graduate or undergraduate student?\n",
    "\n",
    "(c) Repeat part (b) assuming that the student is a smoker.\n",
    "\n",
    "(d) Suppose 30% of the graduate students live in a dorm but only 10% of the undergraduate students live in a dorm. If a student smokes and lives in the dorm, is he or she more likely to be a graduate or undergraduate student? You can assume independence between students who live in a dorm and those who smoke."
   ]
  },
  {
   "attachments": {},
   "cell_type": "markdown",
   "id": "180bdcdd",
   "metadata": {},
   "source": [
    "- Fraction of Undegraduate Students (UG) who Smoke (S): $\\frac{15}{100} = \\frac{3}{20} =.15$\n",
    "- Fraction of Graduate Students (G) who Smoke (S): $\\frac{23}{100} = .23$\n",
    "- Fraction of College Students who are Graduate Students (G): $\\frac{1}{5} = .2$\n",
    "- Fraction of College Students who are Undergraduate Students (UG): $\\frac{4}{5} = .8$\n",
    "\n",
    "\n",
    "a) We find the probability that a student who smokes is a graduate student using Bayes Theorem:\n",
    "$$P(A|B) = \\frac{P(B|A)\\times P(A)}{P(B)}$$\n",
    "\n",
    "Thus, we have:\n",
    "\n",
    "Given: $P(S|UG) = .15, P(S|G) = .23, P(G) = .2, P(UG) = .8$.\n",
    "\n",
    "According to Bayesian Theorem,\n",
    "$$P(G|S) = \\frac{P(S|G)\\times P(G)}{P(S|G)\\times P(G) + P(S|UG)\\times P(UG)} = \\frac{.23\\times .2}{.23\\times .2 + .15\\times .8} = 0.277$$\n",
    "\n",
    "Thus, the probability that a student who smokes is a graduate student is approximately .277."
   ]
  },
  {
   "cell_type": "markdown",
   "id": "6d4da568",
   "metadata": {},
   "source": [
    "b) Given the information in part (a), we will show whether a randomly chosen college student is more likely to be a graduate or undergraduate student:\n",
    "It is evident that a randomly chosen student is more likely to be an undergraduate as 4/5, or 80%, of college students are undergraduates, while only 1/5, or 20%, are graduates. The larger proportion of undergraduate students makes it more likely for one to randomly choose one than a graduate student."
   ]
  },
  {
   "cell_type": "markdown",
   "id": "9d75d02f",
   "metadata": {},
   "source": [
    "c) Given the information in part (a), we will show whether a randomly chosen college student is more likely to be a graduate or undergraduate student given that the student is a smoker:\n",
    "\n",
    "To determine this, we have to compare: $P(UG|S)$ and $P(G|S)$. \n",
    "$P(G|S) = .277$ was found above, so we now determine $P(UG|S)$:\n",
    "$$P(UG|S) = \\frac{P(S|UG)\\times P(UG)}{P(S|G)\\times P(G) + P(S|UG)\\times P(UG)} = \\frac{.15\\times .8}{.23\\times .2 + .15\\times .8} = 0.723$$\n",
    "We find that the probability that a student who smokes is an undergraduate student is approximately .723. \n",
    "\n",
    "Now, since $.723 > .277$, it is evident that $P(UG|S) > P(G|S)$, so a randomly chosen college student is more likely to be an undergraduate student, given that they are a smoker."
   ]
  },
  {
   "cell_type": "markdown",
   "id": "214b4079",
   "metadata": {},
   "source": [
    "d) Finally, suppose 30% of the graduate students live in a dorm but only 10% of the undergraduate students live in a dorm. If a student smokes and lives in the dorm, we determine if he or she more likely to be a graduate or undergraduate student. We can assume independence between students who live in a dorm and those who smoke:\n",
    "\n",
    "- Fraction of Undegraduate Students (UG) who Live in a Dorm (D): $\\frac{10}{100} = \\frac{1}{10} =.1$\n",
    "- Fraction of Graduate Students (G) who Live in a Dorm (D): $\\frac{30}{100} = \\frac{3}{10} =.3$\n",
    "\n",
    "We must find: $P(G|S \\cap D)$ and $P(UG|S \\cap D)$:\n",
    "\n",
    "$$P(G|S \\cap D) = \\frac{P(S \\cap D|G)\\times P(G)}{P(S \\cap D|G)\\times P(G) + P(S \\cap D|UG)\\times P(UG)} = \\frac{P(S|G)\\times P(D|G)\\times P(G)}{[P(S|G)\\times P(D|G)\\times P(G)] + [P(S|UG)\\times P(D|UG)\\times P(UG)]}$$\n",
    "and\n",
    "$$P(UG|S \\cap D) = \\frac{P(S \\cap D|UG)\\times P(UG)}{P(S \\cap D|G)\\times P(G) + P(S \\cap D|UG)\\times P(UG)} = \\frac{P(S|UG)\\times P(D|UG)\\times P(UG)}{[P(S|G)\\times P(D|G)\\times P(G)] + [P(S|UG)\\times P(D|UG)\\times P(UG)]}$$\n",
    "\n",
    "We know that:\n",
    "$P(S|UG) = .15, P(S|G) = .23, P(G) = .2, P(UG) = .8, P(D|G) = .3, P(D|UG) = .1$\n",
    "\n",
    "Thus, we have:\n",
    "$$P(G|S \\cap D) = \\frac{.23\\times .3\\times .2}{.23\\times .3\\times .2 + .15\\times .1\\times .8} = .535$$\n",
    "$$P(UG|S \\cap D) = \\frac{.15\\times .1\\times .8}{.23\\times .3\\times .2 + .15\\times .1\\times .8} = .465$$\n",
    "\n",
    "Therefore, since $.535 > .465$, it is evident that $P(G|S \\cap D) > P(UG|S \\cap D)$, so a student who smokes and lives in a dorm is slightly more likely to be a graduate student."
   ]
  }
 ],
 "metadata": {
  "kernelspec": {
   "display_name": "Python 3",
   "language": "python",
   "name": "python3"
  },
  "language_info": {
   "codemirror_mode": {
    "name": "ipython",
    "version": 3
   },
   "file_extension": ".py",
   "mimetype": "text/x-python",
   "name": "python",
   "nbconvert_exporter": "python",
   "pygments_lexer": "ipython3",
   "version": "3.8.8"
  }
 },
 "nbformat": 4,
 "nbformat_minor": 5
}
