{
 "cells": [
  {
   "cell_type": "markdown",
   "id": "fffc1d47",
   "metadata": {},
   "source": [
    "# Assignment 3:"
   ]
  },
  {
   "cell_type": "markdown",
   "id": "05f9a6d6",
   "metadata": {},
   "source": [
    "### Arun Agarwal\n",
    "#### 915774866\n",
    "### Homework 3\n",
    "2/6/2022 - 2/9/2022"
   ]
  },
  {
   "cell_type": "markdown",
   "id": "15d74758",
   "metadata": {},
   "source": [
    "### Problem 1:"
   ]
  },
  {
   "cell_type": "markdown",
   "id": "b968f3d4",
   "metadata": {},
   "source": [
    "Explain why computing the proximity between two attributes is often simpler than computing the similarity between two objects:\n",
    "\n",
    "First, as a general definition/notion, proximity refers to grouping objects that are closer together. In contrast, similarity refers to grouping objects that are more alike/similar. \n",
    "\n",
    "An object can (and most likely will) contain multiple attributes of differing types, so computing the similarity of two objects would require finding a way to computer similarity of each attribute and subsequently combining the similarities. While this process can be done pretty easily using certain equations, it is still more complicated than the equation/process for calculating proximity. Proximity can be measured using Euclidean distance or correlation values, which is generally simpler to compute and mathematically well-founded. \n",
    "\n",
    "At the same time, it could be the case that the data type of an attribute is the same as the data type of the attribute it is being compared to, which makes the computation of similarity comparably simple to the computation of proximity. \n",
    "\n",
    "In data mining, computing the similarity measure can sometimes be a redundant step if we already need to compute the dissimilarity. For example, if we wanted to compute a similarity measure using Euclidean distance, we would need to transform the dissimilarity score into a similarity measure using the formula s = 1 -d, where s is the similarity score, and d is the Euclidean distance. Thus, just interpreting the dissimilarity measure would be simpler since the two measures move inversely from one another. The distinction of similarity and dissimilarity remains repetitive in the discussion of proximity as it accounts for both, by definition. \n",
    "\n",
    "It should be noted that, while computing the proximity between two attributes may be often simpler, a similarity score still holds much relevance for a number of data mining techniques, such as clustering, nearest neighbor classification, anomaly detection, and more. "
   ]
  },
  {
   "cell_type": "markdown",
   "id": "aba7e8c8",
   "metadata": {},
   "source": [
    "### Problem 2:"
   ]
  },
  {
   "cell_type": "markdown",
   "id": "56193f98",
   "metadata": {},
   "source": [
    "Compute the cosine measure using the raw frequencies between the following two sentences:\n",
    "\n",
    "(a) “The sly fox jumped over the lazy dog.”\n",
    "\n",
    "(b) “The dog jumped at the intruder.”\n",
    "\n",
    "To compute the cosine measure using the raw frequencies between the above sentences, we will make two functions:\n",
    "1. text_to_vector: Makes a vector of the words in a given sentence with their counts\n",
    "2. get_cosine: computes the cosine measure between the two inputted sentences"
   ]
  },
  {
   "cell_type": "code",
   "execution_count": 3,
   "id": "01b569e4",
   "metadata": {},
   "outputs": [
    {
     "name": "stdout",
     "output_type": "stream",
     "text": [
      "Raw Frequency Vector of Sentence 1: \n",
      " Counter({'The': 1, 'sly': 1, 'fox': 1, 'jumped': 1, 'over': 1, 'the': 1, 'lazy': 1, 'dog': 1})\n",
      "Raw Frequency Vector of Sentence 2: \n",
      " Counter({'The': 1, 'dog': 1, 'jumped': 1, 'at': 1, 'the': 1, 'intruder': 1})\n",
      "{'The', 'jumped', 'dog', 'the'}\n",
      "Cosine Similarity Measure: 0.5773502691896258\n"
     ]
    }
   ],
   "source": [
    "import math\n",
    "import re\n",
    "from collections import Counter #Used to get count of words\n",
    "\n",
    "#Compiling a regex pattern into a regular expression object for text_to_vector function\n",
    "WORD = re.compile(r\"\\w+\")\n",
    "\n",
    "#Finding the cosine similarity measure\n",
    "def get_cosine(vec1, vec2):\n",
    "    intersection = set(vec1.keys()) | set(vec2.keys())\n",
    "    print(intersection)\n",
    "    numerator = sum([vec1[x] * vec2[x] for x in intersection])\n",
    "\n",
    "    sum1 = sum([vec1[x] ** 2 for x in list(vec1.keys())])\n",
    "    sum2 = sum([vec2[x] ** 2 for x in list(vec2.keys())])\n",
    "    denominator = math.sqrt(sum1) * math.sqrt(sum2)\n",
    "\n",
    "    if not denominator:\n",
    "        return 0.0\n",
    "    else:\n",
    "        return float(numerator) / denominator\n",
    "\n",
    "#Turning the sentences into raw frequency vectors:\n",
    "def text_to_vector(text):\n",
    "    words = WORD.findall(text)\n",
    "    return Counter(words)\n",
    "\n",
    "#Our sentences\n",
    "text1 = \"The sly fox jumped over the lazy dog.\"\n",
    "text2 = \"The dog jumped at the intruder.\"\n",
    "\n",
    "#Raw frequency vectors created from above function\n",
    "vector1 = text_to_vector(text1)\n",
    "vector2 = text_to_vector(text2)\n",
    "print(\"Raw Frequency Vector of Sentence 1: \\n\", vector1)\n",
    "print(\"Raw Frequency Vector of Sentence 2: \\n\", vector2)\n",
    "\n",
    "#cosine measure from above function\n",
    "cosine = get_cosine(vector1, vector2)\n",
    "\n",
    "print(\"Cosine Similarity Measure:\", cosine)"
   ]
  },
  {
   "cell_type": "markdown",
   "id": "d053d5b1",
   "metadata": {},
   "source": []
  },
  {
   "cell_type": "markdown",
   "id": "624833a7",
   "metadata": {},
   "source": [
    "### Problem 3:"
   ]
  },
  {
   "cell_type": "code",
   "execution_count": null,
   "id": "56d9c11d",
   "metadata": {},
   "outputs": [],
   "source": []
  },
  {
   "cell_type": "markdown",
   "id": "296b39d8",
   "metadata": {},
   "source": [
    "### Problem 4:"
   ]
  },
  {
   "cell_type": "code",
   "execution_count": null,
   "id": "90cd62b1",
   "metadata": {},
   "outputs": [],
   "source": []
  },
  {
   "cell_type": "markdown",
   "id": "ce515c16",
   "metadata": {},
   "source": [
    "### Problem 5:"
   ]
  },
  {
   "cell_type": "code",
   "execution_count": null,
   "id": "67f2d39c",
   "metadata": {},
   "outputs": [],
   "source": []
  },
  {
   "cell_type": "markdown",
   "id": "ce6aa330",
   "metadata": {},
   "source": [
    "### Problem 6:"
   ]
  },
  {
   "cell_type": "code",
   "execution_count": null,
   "id": "e00e6033",
   "metadata": {},
   "outputs": [],
   "source": []
  },
  {
   "cell_type": "markdown",
   "id": "c77cb304",
   "metadata": {},
   "source": [
    "### Problem 7:"
   ]
  },
  {
   "cell_type": "markdown",
   "id": "5099081e",
   "metadata": {},
   "source": []
  },
  {
   "cell_type": "code",
   "execution_count": null,
   "id": "f5250c18",
   "metadata": {},
   "outputs": [],
   "source": []
  }
 ],
 "metadata": {
  "kernelspec": {
   "display_name": "Python 3",
   "language": "python",
   "name": "python3"
  },
  "language_info": {
   "codemirror_mode": {
    "name": "ipython",
    "version": 3
   },
   "file_extension": ".py",
   "mimetype": "text/x-python",
   "name": "python",
   "nbconvert_exporter": "python",
   "pygments_lexer": "ipython3",
   "version": "3.8.8"
  }
 },
 "nbformat": 4,
 "nbformat_minor": 5
}
