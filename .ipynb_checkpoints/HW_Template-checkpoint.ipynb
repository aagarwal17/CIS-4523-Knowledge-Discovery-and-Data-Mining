{
 "cells": [
  {
   "cell_type": "markdown",
   "id": "3ffd2f6b",
   "metadata": {},
   "source": [
    "## Assignment 5:"
   ]
  },
  {
   "cell_type": "markdown",
   "id": "e3d31435",
   "metadata": {},
   "source": [
    "### Arun Agarwal\n",
    "#### 915774866\n",
    "### Homework 5\n",
    "2/16/2022 - 2/19/2022"
   ]
  },
  {
   "cell_type": "markdown",
   "id": "89a189b6",
   "metadata": {},
   "source": [
    "### Problem 1:\n",
    "Download Census Income data set from UCI repository - link is https://archive.ics.uci.edu/ml/datasets/census+income (Links to an external site.)\n",
    "\n",
    "Use training data to develop a model aimed to determine whether a person makes over 50K a year.\n",
    "\n",
    "Solve this problem using the k-nearest neighbors’ method with k=3 and k=9 and report F1 score on test data."
   ]
  },
  {
   "cell_type": "code",
   "execution_count": null,
   "id": "229fb9cb",
   "metadata": {},
   "outputs": [],
   "source": []
  },
  {
   "cell_type": "code",
   "execution_count": null,
   "id": "09d33ed0",
   "metadata": {},
   "outputs": [],
   "source": []
  },
  {
   "cell_type": "code",
   "execution_count": null,
   "id": "b79d7f1c",
   "metadata": {},
   "outputs": [],
   "source": []
  },
  {
   "cell_type": "code",
   "execution_count": null,
   "id": "e881388e",
   "metadata": {},
   "outputs": [],
   "source": []
  },
  {
   "cell_type": "code",
   "execution_count": null,
   "id": "d8463aee",
   "metadata": {},
   "outputs": [],
   "source": []
  },
  {
   "cell_type": "code",
   "execution_count": null,
   "id": "5b59dbf6",
   "metadata": {},
   "outputs": [],
   "source": []
  },
  {
   "cell_type": "code",
   "execution_count": null,
   "id": "0f7e4a09",
   "metadata": {},
   "outputs": [],
   "source": []
  },
  {
   "cell_type": "code",
   "execution_count": null,
   "id": "c1d3d451",
   "metadata": {},
   "outputs": [],
   "source": []
  },
  {
   "cell_type": "markdown",
   "id": "635bc2b5",
   "metadata": {},
   "source": [
    "### Problem 2:\n",
    "Solve this problem using a using feed-forward neural network and report ROC on test data."
   ]
  },
  {
   "cell_type": "code",
   "execution_count": null,
   "id": "af503ee8",
   "metadata": {},
   "outputs": [],
   "source": []
  },
  {
   "cell_type": "code",
   "execution_count": null,
   "id": "21c95337",
   "metadata": {},
   "outputs": [],
   "source": []
  },
  {
   "cell_type": "code",
   "execution_count": null,
   "id": "3d0ee97c",
   "metadata": {},
   "outputs": [],
   "source": []
  },
  {
   "cell_type": "code",
   "execution_count": null,
   "id": "3f31b867",
   "metadata": {},
   "outputs": [],
   "source": []
  },
  {
   "cell_type": "markdown",
   "id": "eeee60aa",
   "metadata": {},
   "source": [
    "### Problem 3:\n",
    "Consider a data set containing four points located at the corners of the square. The two points on one diagonal belong to one class, and the two points on the other diagonal belong to the other class. Is this data set linearly separable? Provide a proof."
   ]
  },
  {
   "cell_type": "code",
   "execution_count": null,
   "id": "8aca999a",
   "metadata": {},
   "outputs": [],
   "source": []
  },
  {
   "cell_type": "code",
   "execution_count": null,
   "id": "67b1cf1c",
   "metadata": {},
   "outputs": [],
   "source": []
  },
  {
   "cell_type": "markdown",
   "id": "ab93a57b",
   "metadata": {},
   "source": [
    "### Problem 4:\n",
    "(a) Suppose the fraction of undergraduate students who smoke is 15% and the fraction of graduate students who smoke is 23%. If one-fifth of the college students are graduate students and the rest are undergraduates, what is the probability that a student who smokes is a graduate student?\n",
    "\n",
    "(b) Given the information in part (a), is a randomly chosen college student more likely to be a graduate or undergraduate student?\n",
    "\n",
    "(c) Repeat part (b) assuming that the student is a smoker.\n",
    "\n",
    "(d) Suppose 30% of the graduate students live in a dorm but only 10% of the undergraduate students live in a dorm. If a student smokes and lives in the dorm, is he or she more likely to be a graduate or undergraduate student? You can assume independence between students who live in a dorm and those who smoke."
   ]
  },
  {
   "cell_type": "code",
   "execution_count": null,
   "id": "18b35841",
   "metadata": {},
   "outputs": [],
   "source": []
  },
  {
   "cell_type": "code",
   "execution_count": null,
   "id": "7c093d22",
   "metadata": {},
   "outputs": [],
   "source": []
  },
  {
   "cell_type": "code",
   "execution_count": null,
   "id": "4476b6e9",
   "metadata": {},
   "outputs": [],
   "source": []
  },
  {
   "cell_type": "code",
   "execution_count": null,
   "id": "6a22cc25",
   "metadata": {},
   "outputs": [],
   "source": []
  }
 ],
 "metadata": {
  "kernelspec": {
   "display_name": "Python 3",
   "language": "python",
   "name": "python3"
  },
  "language_info": {
   "codemirror_mode": {
    "name": "ipython",
    "version": 3
   },
   "file_extension": ".py",
   "mimetype": "text/x-python",
   "name": "python",
   "nbconvert_exporter": "python",
   "pygments_lexer": "ipython3",
   "version": "3.8.8"
  }
 },
 "nbformat": 4,
 "nbformat_minor": 5
}
