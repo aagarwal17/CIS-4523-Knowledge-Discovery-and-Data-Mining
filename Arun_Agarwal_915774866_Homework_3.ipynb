{
 "cells": [
  {
   "cell_type": "markdown",
   "id": "fd8964a2",
   "metadata": {},
   "source": [
    "# Assignment 3:"
   ]
  },
  {
   "cell_type": "markdown",
   "id": "f79df2ac",
   "metadata": {},
   "source": [
    "### Arun Agarwal\n",
    "#### 915774866\n",
    "### Homework 3\n",
    "2/6/2022 - 2/10/2022"
   ]
  },
  {
   "cell_type": "markdown",
   "id": "f126e57c",
   "metadata": {},
   "source": [
    "### Problem 1:"
   ]
  },
  {
   "cell_type": "markdown",
   "id": "8742d62f",
   "metadata": {},
   "source": [
    "Explain why computing the proximity between two attributes is often simpler than computing the similarity between two objects:"
   ]
  },
  {
   "cell_type": "markdown",
   "id": "e60ec9cb",
   "metadata": {},
   "source": [
    "First, as a general definition/notion, proximity refers to grouping objects that are closer together. In contrast, similarity refers to grouping objects that are more alike/similar. \n",
    "\n",
    "An object can (and most likely will) contain multiple attributes of differing types, so computing the similarity of two objects would require finding a way to computer similarity of each attribute and subsequently combining the similarities. While this process can be done pretty easily using certain equations, it is still more complicated than the equation/process for calculating proximity. Proximity can be measured using Euclidean distance or correlation values, which is generally simpler to compute and mathematically well-founded. \n",
    "\n",
    "At the same time, it could be the case that the data type of an attribute is the same as the data type of the attribute it is being compared to, which makes the computation of similarity comparably simple to the computation of proximity. \n",
    "\n",
    "In data mining, computing the similarity measure can sometimes be a redundant step if we already need to compute the dissimilarity. For example, if we wanted to compute a similarity measure using Euclidean distance, we would need to transform the dissimilarity score into a similarity measure using the formula s = 1 -d, where s is the similarity score, and d is the Euclidean distance. Thus, just interpreting the dissimilarity measure would be simpler since the two measures move inversely from one another. The distinction of similarity and dissimilarity remains repetitive in the discussion of proximity as it accounts for both, by definition. \n",
    "\n",
    "It should be noted that, while computing the proximity between two attributes may be often simpler, a similarity score still holds much relevance for a number of data mining techniques, such as clustering, nearest neighbor classification, anomaly detection, and more. "
   ]
  },
  {
   "cell_type": "markdown",
   "id": "e9bb14ac",
   "metadata": {},
   "source": [
    "### Problem 2:"
   ]
  },
  {
   "cell_type": "markdown",
   "id": "86b96969",
   "metadata": {},
   "source": [
    "Compute the cosine measure using the raw frequencies between the following two sentences:\n",
    "\n",
    "(a) “The sly fox jumped over the lazy dog.”\n",
    "\n",
    "(b) “The dog jumped at the intruder.”\n",
    "\n",
    "To compute the cosine measure using the raw frequencies between the above sentences, we will make two functions:\n",
    "1. text_to_vector: Makes a vector of the words in a given sentence with their counts\n",
    "2. get_cosine: computes the cosine measure between the two inputted sentences"
   ]
  },
  {
   "cell_type": "code",
   "execution_count": 30,
   "id": "1391716e",
   "metadata": {},
   "outputs": [
    {
     "name": "stdout",
     "output_type": "stream",
     "text": [
      "Raw Frequency Vector of Sentence 1: \n",
      " Counter({'the': 2, 'sly': 1, 'fox': 1, 'jumped': 1, 'over': 1, 'lazy': 1, 'dog': 1})\n",
      "Raw Frequency Vector of Sentence 2: \n",
      " Counter({'the': 2, 'dog': 1, 'jumped': 1, 'at': 1, 'intruder': 1})\n",
      "Cosine Distance Measure: 0.6708203932499369\n",
      "Cosine Similarity Measure: 0.3291796067500631\n"
     ]
    }
   ],
   "source": [
    "import math\n",
    "import re\n",
    "from collections import Counter #Used to get count of words\n",
    "\n",
    "#Compiling a regex pattern into a regular expression object for text_to_vector function\n",
    "WORD = re.compile(r\"\\w+\")\n",
    "\n",
    "#Finding the cosine similarity measure\n",
    "def get_cosine(vec1, vec2):\n",
    "    #Getting intersection (distinct values from each and those common to both)\n",
    "    intersection = set(vec1.keys()) | set(vec2.keys())\n",
    "    #print(intersection)\n",
    "    \n",
    "    #Numerator of cosine function is the sum of the products of the two vectors\n",
    "    numerator = sum([vec1[x] * vec2[x] for x in intersection])\n",
    "    \n",
    "    #Denominator is the product of the square root of the sum of each vector's values squared\n",
    "    sum1 = sum([vec1[x] ** 2 for x in list(vec1.keys())])\n",
    "    sum2 = sum([vec2[x] ** 2 for x in list(vec2.keys())])\n",
    "    denominator = math.sqrt(sum1) * math.sqrt(sum2)\n",
    "\n",
    "    if not denominator:\n",
    "        return 0.0\n",
    "    else:\n",
    "        return float(numerator) / denominator\n",
    "\n",
    "#Turning the sentences into raw frequency vectors:\n",
    "def text_to_vector(text):\n",
    "    words = WORD.findall(text.lower())\n",
    "    return Counter(words)\n",
    "\n",
    "#Our sentences\n",
    "text1 = \"The sly fox jumped over the lazy dog.\"\n",
    "text2 = \"The dog jumped at the intruder.\"\n",
    "\n",
    "#Raw frequency vectors created from above function\n",
    "vector1 = text_to_vector(text1)\n",
    "vector2 = text_to_vector(text2)\n",
    "print(\"Raw Frequency Vector of Sentence 1: \\n\", vector1)\n",
    "print(\"Raw Frequency Vector of Sentence 2: \\n\", vector2)\n",
    "\n",
    "#cosine measure from above function\n",
    "cosine = get_cosine(vector1, vector2)\n",
    "\n",
    "print(\"Cosine Distance Measure:\", cosine)\n",
    "print(\"Cosine Similarity Measure:\", 1 - cosine)"
   ]
  },
  {
   "cell_type": "markdown",
   "id": "db23c682",
   "metadata": {},
   "source": [
    "Thus, we find that the cosine measure is approximately .6708. We note that we called a function to lowercase the given strings to easily deal with the issue of having 'The' and 'the' count as two different strings. "
   ]
  },
  {
   "cell_type": "markdown",
   "id": "27ad2001",
   "metadata": {},
   "source": [
    "### Problem 3:"
   ]
  },
  {
   "cell_type": "markdown",
   "id": "ddb9cdcf",
   "metadata": {},
   "source": [
    "Discuss how you might map correlation values from the interval [− 1,1] to the interval [0,1]:\n",
    "\n",
    "Note that the type of transformation that you use might depend on the application that you have in mind.\n",
    "\n",
    "Thus, consider two applications:\n",
    "\n",
    "- Clustering time series\n",
    "\n",
    "- Predicting the behavior of one time series given another"
   ]
  },
  {
   "cell_type": "markdown",
   "id": "ac8c91d3",
   "metadata": {},
   "source": [
    "As noted in the question, I would map correlation values from the inerval [-1,1] to the interval [0,1] differently depending on the application:\n",
    "\n",
    "For time series clustering, time series with relatively high positive correlations should be put together. That is, I would want to cluster time series that move together (i.e., $r \\ge 0$) and discard time series that move in opposite directions. Thus, if $r \\ge 0$, then $r = r$. If $r < 0$, then $r = 0$.\n",
    "\n",
    "Next, for predicting the behavior of one time series given another, I would consider both strong negative and strong positive correlations. Specfically, I would square the [-1,1] interval to minimize the impacts of lowly correlated values (about $ -0.25 < r < 0.25$) and maximize the impact of highly correlated values (about $r > 0.5$) because any number between [-1,1], except 0, will become smaller when it is squared. But the rate of transformation for numbers with larger magnitudes is smaller than those of lesser magnitudes. This allows us to isolate those time series that have similar magnitudes. Another potential solution would be to simply have $r = \\lvert r \\rvert$, if we assume we only want to predict magnitude and not direction."
   ]
  },
  {
   "cell_type": "markdown",
   "id": "508b31b7",
   "metadata": {},
   "source": [
    "### Problem 4:"
   ]
  },
  {
   "cell_type": "markdown",
   "id": "ea39cc28",
   "metadata": {},
   "source": [
    "This exercise compares and contrasts some similarity and distance measures.\n",
    "\n",
    "(a) For binary data, the L1 distance corresponds to the Hamming distance; that is, the number of bits that are different between two binary vectors. The Jaccard similarity is a measure of the similarity between two binary vectors. Suppose that you are comparing how similar two organisms of different species are in terms of the number of genes they share. Describe which measure, Hamming or Jaccard, would be more appropriate for comparing the genetic makeup of two organisms. Explain. (Assume that each animal is represented as a binary vector, where each attribute is 1 if a particular gene is present in the organism and 0 otherwise.)\n",
    "\n",
    "(b) If you wanted to compare the genetic makeup of two organisms of the same species, e.g., two human beings, would you use the Hamming distance, the Jaccard coefficient, or a different measure of similarity or distance? Explain. (Note that two human beings share > 99.9% of the same genes.)"
   ]
  },
  {
   "cell_type": "markdown",
   "id": "9fde3e1e",
   "metadata": {},
   "source": [
    "Answers:\n",
    "\n",
    "(a) As stated the Hamming distance compares the bit similarity between two binary vectors (looks for when the bits are similar and dissimilar one to one). In contrast, the Jaccard similarity looks at the two vectors and finds the incident where both values are equal to one (making it similar to the cosine measure as it also ignores 0-0 matches). Now, since we want to look at the number of genes shared between the two organisms, we would want to see the incident where both values are equal to one for each data point in the two binary vectors. Thus, I think the best approach would be Jaccard similarity. In our calculations for Jaccard similarity, we do not take into account any genes that both organisms do not have, aloowing us to discover the level of voerlap between each of these two organism's genetic makeup. \n",
    "\n",
    "(b) Since our data is binary, using either the Simple Matching Coefficient (SMC), Jaccard Coefficient, or the Hamming Distance would be appropiate. However, as stated in the question, the genetic makeup of two organisms of the same species are extremely similar (for example, humans share more than 99.9% of the same genes, or less than .1% of a difference). Taking into account the magnitude of similarity between the two organisms, assessing how different the sequences are would be more insightful. Then, we should look at those values which are not shared between both organisms (therefore, the Jaccard approach would not be ideal here). Thus, I would use the Hamming distance to compare these organisms, which will look at when the bits are dissimilar one to one. "
   ]
  },
  {
   "cell_type": "markdown",
   "id": "1553ffda",
   "metadata": {},
   "source": [
    "### Problem 5:"
   ]
  },
  {
   "cell_type": "markdown",
   "id": "6af0b6cb",
   "metadata": {},
   "source": [
    "Donor data consists of 11 records in the following format: Name Age Salary Donor(Y/N). Donor training dataset:\n",
    "\n",
    "Nancy 21 37,000 N\n",
    "\n",
    "Jim 27 41,000 N\n",
    "\n",
    "Allen 43 61,000 Y\n",
    "\n",
    "Jane 38 55,000 N\n",
    "\n",
    "Steve 44 30,000 N\n",
    "\n",
    "Peter 51 56,000 Y\n",
    "\n",
    "Sayani 53 70,000 Y\n",
    "\n",
    "Lata 56 74,000 Y\n",
    "\n",
    "Mary 59 25,000 N\n",
    "\n",
    "Victor 61 68,000 Y\n",
    "\n",
    "Dale 63 51,000 Y\n",
    "\n",
    "Compute the Gini index for the entire Donor data set, with respect to the two classes. Compute the Gini index for the portion of the data set with age at least 50."
   ]
  },
  {
   "cell_type": "markdown",
   "id": "7e686ebe",
   "metadata": {},
   "source": [
    "| Name | Age | Salary | Donor |\n",
    "| --- | --- | --- | --- |\n",
    "| Nancy | 21 | 37,000 | N |\n",
    "| Jim | 27 | 41,000 | N |\n",
    "| Allen | 43 | 61,000 | Y |\n",
    "| Jane | 38 | 55,000 | N |\n",
    "| Steve | 44 | 30,000 | N |\n",
    "| Peter | 51 | 56,000 | Y |\n",
    "| Sayani | 53 | 70,000 | Y |\n",
    "| Lata | 56 | 74,000 | Y |\n",
    "| Mary | 59 | 25,000 | N |\n",
    "| Victor | 61 | 68,000 | Y |\n",
    "| Dale | 63 | 51,000 | Y |"
   ]
  },
  {
   "cell_type": "markdown",
   "id": "c00bc0eb",
   "metadata": {},
   "source": [
    "As stated in the textbook, \n",
    "$$Gini Index = 1 - \\sum_{i=0}^{c-1} p_i(t)^2$$, \n",
    "where $p_i(t)^2$ is the relative frequency of training instances that belong to class $i$ at node $t$, and $c$ is the total number of classes.\n",
    "\n",
    "In our case, $c = 2$, $p_i(t)^2$ is the relative frequency for the two classes (Y and N), and the nodes t are Y and N.\n",
    "\n",
    "We see that the relative frequency for Y is 6/11 and 5/11 for N.\n",
    "\n",
    "Thus, computing the Gini Index for the entire Donor data set, with respect to the two classes, we have:\n",
    "\n",
    "$$Gini_2class =1 - \\sum_{i=0}^{1} p_i(t)^2 = 1 - (\\frac{6}{11})^2 - (\\frac{5}{11})^2 = \\frac{60}{121} \\approx 0.496$$ "
   ]
  },
  {
   "cell_type": "markdown",
   "id": "085fc371",
   "metadata": {},
   "source": [
    "Next, computing the Gini index for the portion of the data set with age at least 50, we have:\n",
    "\n",
    "$$Gini_{age\\geq50} = 1 - \\sum_{i=0}^{1} p_i(t)^2 = 1 - (\\frac{5}{6})^2 - (\\frac{1}{6})^2 = \\frac{10}{36} = \\frac{5}{18} \\approx 0.278$$ \n",
    "\n",
    "We note that we only looked at 6 values in our table now (for age greater than 50): \n",
    "\n",
    "| Name | Age | Salary | Donor |\n",
    "| --- | --- | --- | --- |\n",
    "| Peter | 51 | 56,000 | Y |\n",
    "| Sayani | 53 | 70,000 | Y |\n",
    "| Lata | 56 | 74,000 | Y |\n",
    "| Mary | 59 | 25,000 | N |\n",
    "| Victor | 61 | 68,000 | Y |\n",
    "| Dale | 63 | 51,000 | Y |"
   ]
  },
  {
   "cell_type": "markdown",
   "id": "f911a1a6",
   "metadata": {},
   "source": [
    "### Problem 6:"
   ]
  },
  {
   "cell_type": "markdown",
   "id": "afdc62a9",
   "metadata": {},
   "source": [
    "Repeat the computation of the previous exercise with the use of the entropy criterion. Compute the entropy for the portion of the data set with age greater than 50."
   ]
  },
  {
   "cell_type": "markdown",
   "id": "40a81a25",
   "metadata": {},
   "source": [
    "As stated in the textbook, \n",
    "$$Entropy =  -\\sum_{i=0}^{c-1} p_i(t) (log_2p_i(t))$$, \n",
    "where $p_i(t)$ is the relative frequency of training instances that belong to class $i$ at node $t$, $0log_20 = 0$ in entropy calculations, and $c$ is the total number of classes.\n",
    "\n",
    "In our case, $c = 2$, $p_i(t)^2$ is the relative frequency for the two classes (Y and N), and the nodes t are Y and N.\n",
    "\n",
    "Now, computing the entropy index for the entire Donor data set, with respect to the two classes, we have:\n",
    "\n",
    "$$Entropy_{2class} =  -\\sum_{i=0}^{c-1} p_i(t) (log_2p_i(t)) = -(\\frac{6}{11})(log_2(\\frac{6}{11})) - (\\frac{5}{11})(log_2(\\frac{5}{11})) \\approx 0.994$$ "
   ]
  },
  {
   "cell_type": "markdown",
   "id": "247a7bf2",
   "metadata": {},
   "source": [
    "Next, computing the Entropy index for the portion of the data set with age greater than or equal to 50, we have:\n",
    "\n",
    "$$Entropy_{age \\geq 50} =  -\\sum_{i=0}^{c-1} p_i(t) (log_2p_i(t)) = -(\\frac{5}{6})(log_2(\\frac{5}{6})) - (\\frac{1}{6})(log_2(\\frac{1}{6})) \\approx 0.650$$ "
   ]
  },
  {
   "cell_type": "markdown",
   "id": "0b235482",
   "metadata": {},
   "source": [
    "### Problem 7:"
   ]
  },
  {
   "cell_type": "markdown",
   "id": "9bd342a8",
   "metadata": {},
   "source": [
    "What is the best classification accuracy that can be obtained on Donor dataset with a decision tree of depth 2, where each test results in a binary split?"
   ]
  },
  {
   "cell_type": "markdown",
   "id": "e70c5f79",
   "metadata": {},
   "source": [
    "After speaking with the TA, I learned that I can determine the best classification accuracy that can be obtained on Donor dataset with a decision tree of depth 2, where each test results in a binary split, using either the sklearn tree DecisionTreeClassifer (for both gini and entropy and reporting the outcomes) or using the Classification Error formula found in the textbook. Thus, here is my work using the sklearn tree DecisionTreeClassifier:"
   ]
  },
  {
   "cell_type": "code",
   "execution_count": 12,
   "id": "10fd10b1",
   "metadata": {},
   "outputs": [],
   "source": [
    "from sklearn.tree import DecisionTreeClassifier"
   ]
  },
  {
   "cell_type": "code",
   "execution_count": 31,
   "id": "132034cf",
   "metadata": {},
   "outputs": [
    {
     "data": {
      "text/plain": [
       "DecisionTreeClassifier(criterion='entropy', max_depth=2)"
      ]
     },
     "execution_count": 31,
     "metadata": {},
     "output_type": "execute_result"
    }
   ],
   "source": [
    "treeGini = DecisionTreeClassifier(criterion = 'gini', splitter = 'best', max_depth = 2, min_samples_split = 2)\n",
    "treeEntropy =  DecisionTreeClassifier(criterion = 'entropy', splitter = 'best', max_depth = 2, min_samples_split = 2)\n",
    "\n",
    "#Fitting the data, where [0, 21, 370000], [1, 27, 41000],...,[10, 63, 51000] represent the occurrences,\n",
    "#, and [0,0,1,0,0,1,1,1,0,1,1] represent the labels of N (0) and Y (1)\n",
    "X = [[0, 21, 37000], [1, 27, 41000], [2, 43, 61000], [3, 38, 55000], [4, 44, 30000], [5, 51, 56000], \n",
    "     [6, 53, 70000], [7, 56, 74000], [8, 59, 25000], [9, 61, 68000], [10, 63, 51000]]\n",
    "treeGini.fit(X, [0,0,1,0,0,1,1,1,0,1,1])\n",
    "treeEntropy.fit(X, [0,0,1,0,0,1,1,1,0,1,1])"
   ]
  },
  {
   "cell_type": "code",
   "execution_count": 32,
   "id": "58f882c6",
   "metadata": {},
   "outputs": [
    {
     "name": "stdout",
     "output_type": "stream",
     "text": [
      "The mean accuracy on the given test data and labels for Gini is:  1.0\n",
      "The mean accuracy on the given test data and labels for Entropy is:  1.0\n"
     ]
    }
   ],
   "source": [
    "print(\"The mean accuracy on the given test data and labels for Gini is: \", treeGini.score(X, [0,0,1,0,0,1,1,1,0,1,1]))\n",
    "print(\"The mean accuracy on the given test data and labels for Entropy is: \", treeEntropy.score(X, [0,0,1,0,0,1,1,1,0,1,1]))"
   ]
  },
  {
   "cell_type": "code",
   "execution_count": 35,
   "id": "929e92fc",
   "metadata": {},
   "outputs": [
    {
     "data": {
      "text/plain": [
       "DecisionTreeClassifier(criterion='entropy', max_depth=2)"
      ]
     },
     "execution_count": 35,
     "metadata": {},
     "output_type": "execute_result"
    }
   ],
   "source": [
    "#I also performed the process without using the features of age and salary to see what difference it produces:\n",
    "#Fitting the data, where [0], [1],...,[10] represent the occurrences,\n",
    "#, and [0,0,1,0,0,1,1,1,0,1,1] represent the labels of N (0) and Y (1)\n",
    "X = [[0], [1], [2], [3], [4], [5], [6], [7], [8], [9], [10]]\n",
    "treeGini.fit(X, [0,0,1,0,0,1,1,1,0,1,1])\n",
    "treeEntropy.fit(X, [0,0,1,0,0,1,1,1,0,1,1])"
   ]
  },
  {
   "cell_type": "code",
   "execution_count": 36,
   "id": "33e9a109",
   "metadata": {},
   "outputs": [
    {
     "name": "stdout",
     "output_type": "stream",
     "text": [
      "The mean accuracy on the given test data and labels for Gini (using only feature) is:  0.8181818181818182\n",
      "The mean accuracy on the given test data and labels for Entropy (using only feature) is:  0.8181818181818182\n"
     ]
    }
   ],
   "source": [
    "print(\"The mean accuracy on the given test data and labels for Gini (using only feature) is: \", treeGini.score(X, [0,0,1,0,0,1,1,1,0,1,1]))\n",
    "print(\"The mean accuracy on the given test data and labels for Entropy (using only feature) is: \", treeEntropy.score(X, [0,0,1,0,0,1,1,1,0,1,1]))"
   ]
  },
  {
   "cell_type": "markdown",
   "id": "38ade5aa",
   "metadata": {},
   "source": [
    "This score represents the best classification accuracy that can be obtained on Donor dataset with a decision tree of depth 2, where each test results in a binary split. The results for both Gini and Entropy are the same, which according to the TA, is alright. We see that that the classification accuracy decreases from 1.0 to .8181 when we only fit with one feature/attribute. Since we are given age and salary as attributes, they should be accounted for in the fitting and score calculations. Thus, I believe the best classification accuracy is in fact 1.0."
   ]
  },
  {
   "cell_type": "code",
   "execution_count": 33,
   "id": "6e227975",
   "metadata": {},
   "outputs": [
    {
     "data": {
      "text/plain": [
       "[Text(200.88000000000002, 181.2, 'X[2] <= 55500.0\\ngini = 0.496\\nsamples = 11\\nvalue = [5, 6]'),\n",
       " Text(133.92000000000002, 108.72, 'X[0] <= 9.0\\ngini = 0.278\\nsamples = 6\\nvalue = [5, 1]'),\n",
       " Text(66.96000000000001, 36.23999999999998, 'gini = 0.0\\nsamples = 5\\nvalue = [5, 0]'),\n",
       " Text(200.88000000000002, 36.23999999999998, 'gini = 0.0\\nsamples = 1\\nvalue = [0, 1]'),\n",
       " Text(267.84000000000003, 108.72, 'gini = 0.0\\nsamples = 5\\nvalue = [0, 5]')]"
      ]
     },
     "execution_count": 33,
     "metadata": {},
     "output_type": "execute_result"
    },
    {
     "data": {
      "image/png": "[encoded data removed]",
      "text/plain": [
       "<Figure size 432x288 with 1 Axes>"
      ]
     },
     "metadata": {
      "needs_background": "light"
     },
     "output_type": "display_data"
    }
   ],
   "source": [
    "#Plotting the tree gini:\n",
    "from sklearn import tree\n",
    "tree.plot_tree(treeGini)"
   ]
  },
  {
   "cell_type": "code",
   "execution_count": 34,
   "id": "d8bf717e",
   "metadata": {},
   "outputs": [
    {
     "data": {
      "text/plain": [
       "[Text(200.88000000000002, 181.2, 'X[2] <= 55500.0\\nentropy = 0.994\\nsamples = 11\\nvalue = [5, 6]'),\n",
       " Text(133.92000000000002, 108.72, 'X[0] <= 9.0\\nentropy = 0.65\\nsamples = 6\\nvalue = [5, 1]'),\n",
       " Text(66.96000000000001, 36.23999999999998, 'entropy = 0.0\\nsamples = 5\\nvalue = [5, 0]'),\n",
       " Text(200.88000000000002, 36.23999999999998, 'entropy = 0.0\\nsamples = 1\\nvalue = [0, 1]'),\n",
       " Text(267.84000000000003, 108.72, 'entropy = 0.0\\nsamples = 5\\nvalue = [0, 5]')]"
      ]
     },
     "execution_count": 34,
     "metadata": {},
     "output_type": "execute_result"
    },
    {
     "data": {
      "image/png": "[encoded data removed]",
      "text/plain": [
       "<Figure size 432x288 with 1 Axes>"
      ]
     },
     "metadata": {
      "needs_background": "light"
     },
     "output_type": "display_data"
    }
   ],
   "source": [
    "#Plotting the tree entropy:\n",
    "from sklearn import tree\n",
    "tree.plot_tree(treeEntropy)"
   ]
  },
  {
   "cell_type": "markdown",
   "id": "1491166c",
   "metadata": {},
   "source": [
    "Next, I tried using the Classification Error formula from the textbook:\n",
    "\n",
    "$$Classification Error = 1 - max_i[p_i(t)]$$,\n",
    "\n",
    "where $p_i(t)$ is the relative frequency of training instances that belong to class $i$ at node $t$.\n",
    "\n",
    "Thus, we have:\n",
    "\n",
    "$$Classification Error_{Gini} = 1 - max_i[p_i(t)] = 1 - max_i[\\frac{6}{11},\\frac{5}{11}] = 1 - \\frac{6}{11} = \\frac{5}{11}$$,\n",
    "\n",
    "which tells us that the Classification Error is .555..., but I do not believe this provides insight into the best classification accuracy, as intended.\n",
    "\n",
    "Thus, based on my work using the DecisionTreeClassifier above, I believe the best classification accuracy that can be obtained on Donor dataset with a decision tree of depth 2, where each test results in a binary split is approximiately 1.0.\n"
   ]
  },
  {
   "cell_type": "markdown",
   "id": "d62ac197",
   "metadata": {},
   "source": [
    "NOTE: FOR THIS ENTIRE DOCUMENT, I HAD TO REWORK MY COMMENTS SO THAT THE WHOLE COMMENT COULD BE READ ONCE THE JUPYTER NOTEBOOK GETS CONVERTED INTO A PDF; THUS, I APOLOGIZE IF THE COMMENTS ARE POORLY FORMATTED (MY COMMENTS READ MUCH NICER BEFORE I HAD TO REFORMAT THEM)"
   ]
  }
 ],
 "metadata": {
  "kernelspec": {
   "display_name": "Python 3",
   "language": "python",
   "name": "python3"
  },
  "language_info": {
   "codemirror_mode": {
    "name": "ipython",
    "version": 3
   },
   "file_extension": ".py",
   "mimetype": "text/x-python",
   "name": "python",
   "nbconvert_exporter": "python",
   "pygments_lexer": "ipython3",
   "version": "3.8.8"
  }
 },
 "nbformat": 4,
 "nbformat_minor": 5
}
