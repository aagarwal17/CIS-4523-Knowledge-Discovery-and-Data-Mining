{
 "cells": [
  {
   "cell_type": "markdown",
   "id": "2e6cc4b7-ce57-4a07-9881-89fa61a1a9c8",
   "metadata": {},
   "source": [
    "# Models for Student Performance on Examinations Data:"
   ]
  },
  {
   "cell_type": "code",
   "execution_count": 2,
   "id": "8fdeae67-168d-4e54-bf73-dd96e0bc6d29",
   "metadata": {},
   "outputs": [],
   "source": [
    "# Imports:\n",
    "\n",
    "#Basic Imports:\n",
    "import pandas as pd\n",
    "import numpy as np\n",
    "\n",
    "# Plotting Imports\n",
    "import matplotlib.pyplot as plt\n",
    "import seaborn as sns\n",
    "%matplotlib inline\n",
    "\n",
    "# Preprocessing Imports\n",
    "from sklearn.model_selection import train_test_split, KFold\n",
    "from sklearn.preprocessing import LabelEncoder\n",
    "from sklearn.preprocessing import StandardScaler\n",
    "from sklearn.linear_model import LinearRegression, Ridge, Lasso\n",
    "from sklearn.metrics import mean_absolute_error,mean_squared_error\n",
    "from sklearn.linear_model import LogisticRegression\n",
    "from sklearn.metrics import accuracy_score\n",
    "from sklearn.metrics import f1_score\n",
    "from sklearn.metrics import recall_score\n",
    "from sklearn.metrics import precision_score\n",
    "from random import shuffle\n",
    "import random\n",
    "random.seed(123)\n",
    "\n",
    "# Metrics Import\n",
    "from sklearn.metrics import mean_squared_error, mean_absolute_error, r2_score\n",
    "\n",
    "# ML Model Imports\n",
    "import lightgbm as lgb\n",
    "from lightgbm import LGBMRegressor \n",
    "import xgboost as xg \n",
    "from sklearn.ensemble import RandomForestRegressor\n",
    "from sklearn import svm\n",
    "from sklearn.linear_model import LinearRegression\n",
    "from pylab import rcParams\n",
    "\n",
    "from sklearn.datasets import make_blobs\n",
    "import matplotlib.pyplot as plt\n",
    "from sklearn.cluster import KMeans\n",
    "from sklearn.cluster import AgglomerativeClustering\n",
    "from sklearn.cluster import SpectralClustering\n",
    "from sklearn import datasets\n",
    "from sklearn.metrics.cluster import normalized_mutual_info_score\n",
    "from sklearn.decomposition import PCA"
   ]
  },
  {
   "cell_type": "markdown",
   "id": "782c9501-7b0a-4213-8c52-542dc87beeb9",
   "metadata": {},
   "source": [
    "## Reading in Data/CSV File:"
   ]
  },
  {
   "cell_type": "code",
   "execution_count": 27,
   "id": "95934072-bb7a-4cae-a9fb-941e49d40b8d",
   "metadata": {},
   "outputs": [
    {
     "data": {
      "text/html": [
       "<div>\n",
       "<style scoped>\n",
       "    .dataframe tbody tr th:only-of-type {\n",
       "        vertical-align: middle;\n",
       "    }\n",
       "\n",
       "    .dataframe tbody tr th {\n",
       "        vertical-align: top;\n",
       "    }\n",
       "\n",
       "    .dataframe thead th {\n",
       "        text-align: right;\n",
       "    }\n",
       "</style>\n",
       "<table border=\"1\" class=\"dataframe\">\n",
       "  <thead>\n",
       "    <tr style=\"text-align: right;\">\n",
       "      <th></th>\n",
       "      <th>gender</th>\n",
       "      <th>race/ethnicity</th>\n",
       "      <th>parental level of education</th>\n",
       "      <th>lunch</th>\n",
       "      <th>test preparation course</th>\n",
       "      <th>math score</th>\n",
       "      <th>reading score</th>\n",
       "      <th>writing score</th>\n",
       "      <th>average score</th>\n",
       "      <th>Math_Pass_Status</th>\n",
       "      <th>Reading_Pass_Status</th>\n",
       "      <th>Writing_Pass_Status</th>\n",
       "      <th>Overall_Pass_Status</th>\n",
       "      <th>Grade</th>\n",
       "    </tr>\n",
       "  </thead>\n",
       "  <tbody>\n",
       "    <tr>\n",
       "      <th>0</th>\n",
       "      <td>0</td>\n",
       "      <td>1</td>\n",
       "      <td>1</td>\n",
       "      <td>1</td>\n",
       "      <td>1</td>\n",
       "      <td>72</td>\n",
       "      <td>72</td>\n",
       "      <td>74</td>\n",
       "      <td>72.666667</td>\n",
       "      <td>1</td>\n",
       "      <td>1</td>\n",
       "      <td>1</td>\n",
       "      <td>1</td>\n",
       "      <td>2</td>\n",
       "    </tr>\n",
       "    <tr>\n",
       "      <th>1</th>\n",
       "      <td>0</td>\n",
       "      <td>2</td>\n",
       "      <td>4</td>\n",
       "      <td>1</td>\n",
       "      <td>0</td>\n",
       "      <td>69</td>\n",
       "      <td>90</td>\n",
       "      <td>88</td>\n",
       "      <td>82.333333</td>\n",
       "      <td>1</td>\n",
       "      <td>1</td>\n",
       "      <td>1</td>\n",
       "      <td>1</td>\n",
       "      <td>1</td>\n",
       "    </tr>\n",
       "    <tr>\n",
       "      <th>2</th>\n",
       "      <td>0</td>\n",
       "      <td>1</td>\n",
       "      <td>3</td>\n",
       "      <td>1</td>\n",
       "      <td>1</td>\n",
       "      <td>90</td>\n",
       "      <td>95</td>\n",
       "      <td>93</td>\n",
       "      <td>92.666667</td>\n",
       "      <td>1</td>\n",
       "      <td>1</td>\n",
       "      <td>1</td>\n",
       "      <td>1</td>\n",
       "      <td>0</td>\n",
       "    </tr>\n",
       "    <tr>\n",
       "      <th>3</th>\n",
       "      <td>1</td>\n",
       "      <td>0</td>\n",
       "      <td>0</td>\n",
       "      <td>0</td>\n",
       "      <td>1</td>\n",
       "      <td>47</td>\n",
       "      <td>57</td>\n",
       "      <td>44</td>\n",
       "      <td>49.333333</td>\n",
       "      <td>0</td>\n",
       "      <td>0</td>\n",
       "      <td>0</td>\n",
       "      <td>0</td>\n",
       "      <td>5</td>\n",
       "    </tr>\n",
       "    <tr>\n",
       "      <th>4</th>\n",
       "      <td>1</td>\n",
       "      <td>2</td>\n",
       "      <td>4</td>\n",
       "      <td>1</td>\n",
       "      <td>1</td>\n",
       "      <td>76</td>\n",
       "      <td>78</td>\n",
       "      <td>75</td>\n",
       "      <td>76.333333</td>\n",
       "      <td>1</td>\n",
       "      <td>1</td>\n",
       "      <td>1</td>\n",
       "      <td>1</td>\n",
       "      <td>2</td>\n",
       "    </tr>\n",
       "    <tr>\n",
       "      <th>...</th>\n",
       "      <td>...</td>\n",
       "      <td>...</td>\n",
       "      <td>...</td>\n",
       "      <td>...</td>\n",
       "      <td>...</td>\n",
       "      <td>...</td>\n",
       "      <td>...</td>\n",
       "      <td>...</td>\n",
       "      <td>...</td>\n",
       "      <td>...</td>\n",
       "      <td>...</td>\n",
       "      <td>...</td>\n",
       "      <td>...</td>\n",
       "      <td>...</td>\n",
       "    </tr>\n",
       "    <tr>\n",
       "      <th>995</th>\n",
       "      <td>0</td>\n",
       "      <td>4</td>\n",
       "      <td>3</td>\n",
       "      <td>1</td>\n",
       "      <td>0</td>\n",
       "      <td>88</td>\n",
       "      <td>99</td>\n",
       "      <td>95</td>\n",
       "      <td>94.000000</td>\n",
       "      <td>1</td>\n",
       "      <td>1</td>\n",
       "      <td>1</td>\n",
       "      <td>1</td>\n",
       "      <td>0</td>\n",
       "    </tr>\n",
       "    <tr>\n",
       "      <th>996</th>\n",
       "      <td>1</td>\n",
       "      <td>2</td>\n",
       "      <td>2</td>\n",
       "      <td>0</td>\n",
       "      <td>1</td>\n",
       "      <td>62</td>\n",
       "      <td>55</td>\n",
       "      <td>55</td>\n",
       "      <td>57.333333</td>\n",
       "      <td>1</td>\n",
       "      <td>0</td>\n",
       "      <td>0</td>\n",
       "      <td>0</td>\n",
       "      <td>4</td>\n",
       "    </tr>\n",
       "    <tr>\n",
       "      <th>997</th>\n",
       "      <td>0</td>\n",
       "      <td>2</td>\n",
       "      <td>2</td>\n",
       "      <td>0</td>\n",
       "      <td>0</td>\n",
       "      <td>59</td>\n",
       "      <td>71</td>\n",
       "      <td>65</td>\n",
       "      <td>65.000000</td>\n",
       "      <td>0</td>\n",
       "      <td>1</td>\n",
       "      <td>1</td>\n",
       "      <td>0</td>\n",
       "      <td>3</td>\n",
       "    </tr>\n",
       "    <tr>\n",
       "      <th>998</th>\n",
       "      <td>0</td>\n",
       "      <td>3</td>\n",
       "      <td>4</td>\n",
       "      <td>1</td>\n",
       "      <td>0</td>\n",
       "      <td>68</td>\n",
       "      <td>78</td>\n",
       "      <td>77</td>\n",
       "      <td>74.333333</td>\n",
       "      <td>1</td>\n",
       "      <td>1</td>\n",
       "      <td>1</td>\n",
       "      <td>1</td>\n",
       "      <td>2</td>\n",
       "    </tr>\n",
       "    <tr>\n",
       "      <th>999</th>\n",
       "      <td>0</td>\n",
       "      <td>3</td>\n",
       "      <td>4</td>\n",
       "      <td>0</td>\n",
       "      <td>1</td>\n",
       "      <td>77</td>\n",
       "      <td>86</td>\n",
       "      <td>86</td>\n",
       "      <td>83.000000</td>\n",
       "      <td>1</td>\n",
       "      <td>1</td>\n",
       "      <td>1</td>\n",
       "      <td>1</td>\n",
       "      <td>1</td>\n",
       "    </tr>\n",
       "  </tbody>\n",
       "</table>\n",
       "<p>1000 rows × 14 columns</p>\n",
       "</div>"
      ],
      "text/plain": [
       "     gender  race/ethnicity  parental level of education  lunch  \\\n",
       "0         0               1                            1      1   \n",
       "1         0               2                            4      1   \n",
       "2         0               1                            3      1   \n",
       "3         1               0                            0      0   \n",
       "4         1               2                            4      1   \n",
       "..      ...             ...                          ...    ...   \n",
       "995       0               4                            3      1   \n",
       "996       1               2                            2      0   \n",
       "997       0               2                            2      0   \n",
       "998       0               3                            4      1   \n",
       "999       0               3                            4      0   \n",
       "\n",
       "     test preparation course  math score  reading score  writing score  \\\n",
       "0                          1          72             72             74   \n",
       "1                          0          69             90             88   \n",
       "2                          1          90             95             93   \n",
       "3                          1          47             57             44   \n",
       "4                          1          76             78             75   \n",
       "..                       ...         ...            ...            ...   \n",
       "995                        0          88             99             95   \n",
       "996                        1          62             55             55   \n",
       "997                        0          59             71             65   \n",
       "998                        0          68             78             77   \n",
       "999                        1          77             86             86   \n",
       "\n",
       "     average score  Math_Pass_Status  Reading_Pass_Status  \\\n",
       "0        72.666667                 1                    1   \n",
       "1        82.333333                 1                    1   \n",
       "2        92.666667                 1                    1   \n",
       "3        49.333333                 0                    0   \n",
       "4        76.333333                 1                    1   \n",
       "..             ...               ...                  ...   \n",
       "995      94.000000                 1                    1   \n",
       "996      57.333333                 1                    0   \n",
       "997      65.000000                 0                    1   \n",
       "998      74.333333                 1                    1   \n",
       "999      83.000000                 1                    1   \n",
       "\n",
       "     Writing_Pass_Status  Overall_Pass_Status  Grade  \n",
       "0                      1                    1      2  \n",
       "1                      1                    1      1  \n",
       "2                      1                    1      0  \n",
       "3                      0                    0      5  \n",
       "4                      1                    1      2  \n",
       "..                   ...                  ...    ...  \n",
       "995                    1                    1      0  \n",
       "996                    0                    0      4  \n",
       "997                    1                    0      3  \n",
       "998                    1                    1      2  \n",
       "999                    1                    1      1  \n",
       "\n",
       "[1000 rows x 14 columns]"
      ]
     },
     "execution_count": 27,
     "metadata": {},
     "output_type": "execute_result"
    }
   ],
   "source": [
    "df = pd.read_csv('../Data/dataEncoded.csv')\n",
    "df"
   ]
  },
  {
   "cell_type": "markdown",
   "id": "730c5e69-9496-499d-842e-795bd82a8a35",
   "metadata": {},
   "source": [
    "## Linear Regression: <a id = 'linearreg'></a>"
   ]
  },
  {
   "cell_type": "markdown",
   "id": "87cdcf50-677d-4adc-850b-57c21231a9de",
   "metadata": {},
   "source": [
    "I am creating a linear regression model to determine if one can use categorical features--gender, race/ethnicity, parental level of education, having or not having lunch, and taking or not taking a test preparation course--to predict student performance on an examination."
   ]
  },
  {
   "cell_type": "markdown",
   "id": "46bde901-33ef-44d1-8a95-5e4342c2516d",
   "metadata": {},
   "source": [
    "### Splitting the Dataset: <a id = 'linsplit'></a>"
   ]
  },
  {
   "cell_type": "code",
   "execution_count": 35,
   "id": "8a1eadb1-1b13-4872-81df-5bc9b1bbc4ac",
   "metadata": {},
   "outputs": [
    {
     "name": "stdout",
     "output_type": "stream",
     "text": [
      "(800, 5)\n",
      "(200, 5)\n"
     ]
    }
   ],
   "source": [
    "#The dataset will be split into a training set with 80% of samples and a test set with 20% of samples\n",
    "#The training set is used to learn model parameters and the testing set is used to evaluate the learned model\n",
    "\n",
    "#Splitting the samples:\n",
    "student_performance_fea = df.drop(['reading score','writing score','math score','average score', 'Math_Pass_Status', 'Reading_Pass_Status', 'Writing_Pass_Status', 'Overall_Pass_Status', 'Grade'], axis=1).values\n",
    "target = df['average score'].values\n",
    "\n",
    "X_train, X_test, Y_train, Y_test = train_test_split(student_performance_fea,\n",
    "                                                 target,\n",
    "                                                 test_size=0.2,\n",
    "                                                 random_state=42)\n",
    "print(X_train.shape)\n",
    "print(X_test.shape)\n",
    "#It makes sense that there are 800 values in the training set because this is 80% of the total number of values.\n",
    "#It then also makes sense that there are 200 values in the testing set because this is 20% of the total number of values.\n",
    "\n",
    "\n",
    "#Normalizing the features:\n",
    "normalizer = StandardScaler()\n",
    "X_train = normalizer.fit_transform(X_train)\n",
    "X_test = normalizer.transform(X_test)"
   ]
  },
  {
   "cell_type": "markdown",
   "id": "401787dd-fddc-4634-9353-42bee4038a64",
   "metadata": {},
   "source": [
    "### Training the linear regression model: <a id = 'lintrain'></a>\n",
    "\n",
    "I will use the Linear regression model to do prediction\n",
    "\n",
    "$\\min_{w}\\frac{1}{n}\\|y-X\\mathbf{w}\\|_2^2$\n",
    "\n",
    "I will output the learned model parameter $\\mathbf{w}$ and see how the learned model fit the training set. "
   ]
  },
  {
   "cell_type": "code",
   "execution_count": 36,
   "id": "1126aa76-d6d5-4f23-84d3-217168e0f204",
   "metadata": {},
   "outputs": [
    {
     "name": "stdout",
     "output_type": "stream",
     "text": [
      "For learned model parameter w: \n",
      "Bias is 68.16916666666665\n",
      "Coefficients are [-2.08400337  2.21246318 -0.95409731  4.32734641 -3.90283275]\n",
      "Prediction for the training set:\n",
      "MAE is: 10.050407732008344\n",
      "MSE is: 154.94186635100735\n",
      "RMSE is: 12.447564675510119\n"
     ]
    }
   ],
   "source": [
    "#Training the model:\n",
    "\n",
    "lr = LinearRegression()\n",
    "\n",
    "lr.fit(X_train,Y_train)\n",
    "\n",
    "print(\"For learned model parameter w: \")\n",
    "print(\"Bias is \" + str(lr.intercept_))\n",
    "print(\"Coefficients are \" + str(lr.coef_))\n",
    "\n",
    "Y_train_pred = lr.predict(X_train)\n",
    "\n",
    "mae = mean_absolute_error(Y_train_pred, Y_train)\n",
    "mse = mean_squared_error(Y_train_pred, Y_train)\n",
    "rmse = np.sqrt(mse)\n",
    "\n",
    "print('Prediction for the training set:')\n",
    "print('MAE is: {}'.format(mae))\n",
    "print('MSE is: {}'.format(mse))\n",
    "print('RMSE is: {}'.format(rmse))"
   ]
  },
  {
   "cell_type": "markdown",
   "id": "6c26cd6d-f94c-4518-87ca-88715ca18541",
   "metadata": {},
   "source": [
    "While not much information can be collected from these scores alone, they wil be compared to results from other models such as Ridge Regression, SVM, and Random Forest Regression to determine their validity."
   ]
  },
  {
   "cell_type": "markdown",
   "id": "93316c6d-6c11-4191-956d-45a08d951c40",
   "metadata": {},
   "source": [
    "### Evaluating the linear regression model: <a id = 'linevaluate'></a>\n",
    "\n",
    "\n",
    "I will evaluate the learned model to see how well this model generalizes on the testing set. "
   ]
  },
  {
   "cell_type": "code",
   "execution_count": 37,
   "id": "7aece421-42fb-4061-b2f0-34828a5b00f7",
   "metadata": {},
   "outputs": [
    {
     "name": "stdout",
     "output_type": "stream",
     "text": [
      "Prediction for the testing set:\n",
      "MAE is: 10.717163335369497\n",
      "MSE is: 187.4495832223678\n",
      "RMSE is: 13.691222853433064\n"
     ]
    },
    {
     "data": {
      "image/png": "[encoded data removed]",
      "text/plain": [
       "<Figure size 864x432 with 1 Axes>"
      ]
     },
     "metadata": {
      "needs_background": "light"
     },
     "output_type": "display_data"
    }
   ],
   "source": [
    "#Evaluating the model to see how well it generalizes on the testing set:\n",
    "\n",
    "Y_test_pred = lr.predict(X_test)\n",
    "\n",
    "mae = mean_absolute_error(Y_test, Y_test_pred)\n",
    "mse = mean_squared_error(Y_test, Y_test_pred)\n",
    "rmse = np.sqrt(mse)\n",
    "\n",
    "print('Prediction for the testing set:')\n",
    "print('MAE is: {}'.format(mae))\n",
    "print('MSE is: {}'.format(mse))\n",
    "print('RMSE is: {}'.format(rmse))\n",
    "\n",
    "labels = ['Person1', 'Person2', 'Person3', 'Person4', 'Person5', 'Person6', 'Person7', 'Person8', 'Person9', 'Person10']\n",
    "x = np.arange(len(labels))  # the label locations\n",
    "width = 0.4  # the width of the bars\n",
    "\n",
    "fig, ax = plt.subplots(figsize = (12,6))\n",
    "rects1 = ax.bar(x - width/2, Y_test[0:10], width, label='Ground Truth')\n",
    "rects2 = ax.bar(x + width/2, Y_test_pred[0:10], width, label='Prediction')\n",
    "\n",
    "ax.set_title(\"Linear Regression\")\n",
    "ax.set_xlabel(\"Data Sample\")\n",
    "ax.set_ylabel('Average/Mean Score')\n",
    "ax.set_xticks(x)\n",
    "ax.set_xticklabels(labels)\n",
    "ax.legend()\n",
    "\n",
    "plt.show()\n",
    "#From this plot, we can see the learned model does well to generalize on the testing set."
   ]
  },
  {
   "cell_type": "markdown",
   "id": "68b87a0d-d845-489e-8220-3e2c64355f25",
   "metadata": {},
   "source": [
    "By comparing the ground truth and prediction for a sample of the data, one can see that the learned linear regression model does well to generalize on the testing set. In other words, it is satisfactory to use the categorical features in the dataset to predict student performance on examinations."
   ]
  },
  {
   "cell_type": "markdown",
   "id": "c5a521da-8a26-4261-b44b-87a66e1ede47",
   "metadata": {},
   "source": [
    "## Ridge Regression: <a id = 'ridge'></a>"
   ]
  },
  {
   "cell_type": "markdown",
   "id": "25d765e8-fa6b-4999-9854-ebc6aa194b3d",
   "metadata": {},
   "source": [
    "### Training the Ridge Regression Model: <a id = 'ridgetrain'></a>\n",
    "$\\min_{w}\\frac{1}{n}\\|y-Xw\\|_2^2 + \\lambda \\|w\\|_2^2$\n",
    "\n",
    "I will compare its performance on the testing set with that of the standard linear regression model $\\min_{w}\\frac{1}{n}\\|y-Xw\\|_2^2$\n",
    "\n",
    "I will also use different $\\lambda$ to see how it affects the performance of the ridge regression  model on the testing set\n"
   ]
  },
  {
   "cell_type": "code",
   "execution_count": 38,
   "id": "5b6470bc-4483-4df6-ba9d-bcde1a277487",
   "metadata": {},
   "outputs": [
    {
     "name": "stdout",
     "output_type": "stream",
     "text": [
      "For learned model parameter w: \n",
      "Bias is 68.16916666666665\n",
      "Coefficients are [-2.08373712  2.21222729 -0.95399722  4.32679848 -3.90233655]\n",
      "Prediction for the training set:\n",
      "MAE is: 10.050373148176108\n",
      "MSE is: 154.94186703591038\n",
      "RMSE is: 12.447564703021646\n"
     ]
    }
   ],
   "source": [
    "#Training the model with Ridge Regression:\n",
    "\n",
    "rr = Ridge(alpha = 0.1)\n",
    "\n",
    "rr.fit(X_train,Y_train)\n",
    "\n",
    "print(\"For learned model parameter w: \")\n",
    "print(\"Bias is \" + str(rr.intercept_))\n",
    "print(\"Coefficients are \" + str(rr.coef_))\n",
    "\n",
    "Y_train_pred2 = rr.predict(X_train)\n",
    "\n",
    "mae2 = mean_absolute_error(Y_train_pred2, Y_train)\n",
    "mse2 = mean_squared_error(Y_train_pred2, Y_train)\n",
    "rmse2 = np.sqrt(mse2)\n",
    "\n",
    "\n",
    "print('Prediction for the training set:')\n",
    "print('MAE is: {}'.format(mae2))\n",
    "print('MSE is: {}'.format(mse2))\n",
    "print('RMSE is: {}'.format(rmse2))\n",
    "\n",
    "#Using Ridge Regression the prediction values for the training set for MAE, MSE, and RMSE are almost idential for the values for Linear Regression"
   ]
  },
  {
   "cell_type": "markdown",
   "id": "649aa6ad-1ca2-4c4a-8455-17299ed76fc7",
   "metadata": {},
   "source": [
    "Similar to the linear regression model, not much information can be gathered from these scores/values alone. Thus, they will be compared to the other models I create to determine their validity."
   ]
  },
  {
   "cell_type": "markdown",
   "id": "f507c626-bbd7-4210-ad7a-f47d3616f014",
   "metadata": {},
   "source": [
    "### Evaluating the Ridge Regression Model: <a id = 'rideval'></a>"
   ]
  },
  {
   "cell_type": "code",
   "execution_count": 39,
   "id": "95cde286-9d31-4f88-91fd-d8b5c0b41e9f",
   "metadata": {},
   "outputs": [
    {
     "name": "stdout",
     "output_type": "stream",
     "text": [
      "Prediction for the testing set:\n",
      "MAE is: 10.717076759522906\n",
      "MSE is: 187.44770619143767\n",
      "RMSE is: 13.691154304566057\n"
     ]
    },
    {
     "data": {
      "image/png": "[encoded data removed]",
      "text/plain": [
       "<Figure size 864x432 with 1 Axes>"
      ]
     },
     "metadata": {
      "needs_background": "light"
     },
     "output_type": "display_data"
    },
    {
     "name": "stdout",
     "output_type": "stream",
     "text": [
      "Percent Difference between Ridge Regression and Linear Regression: \n",
      "Percent Difference for MAE is: 0.0008078275339647847%\n",
      "Percent Difference for MSE is: 0.0010013574294264152%\n",
      "Percent Difference for RMSE is: 0.0005006787147225711%\n"
     ]
    }
   ],
   "source": [
    "#Evaluating the model to see how well it generalizes on the testing set:\n",
    "\n",
    "Y_test_pred2 = rr.predict(X_test)\n",
    "\n",
    "mae2 = mean_absolute_error(Y_test, Y_test_pred2)\n",
    "mse2 = mean_squared_error(Y_test, Y_test_pred2)\n",
    "rmse2 = np.sqrt(mse2)\n",
    "\n",
    "print('Prediction for the testing set:')\n",
    "print('MAE is: {}'.format(mae2))\n",
    "print('MSE is: {}'.format(mse2))\n",
    "print('RMSE is: {}'.format(rmse2))\n",
    "\n",
    "labels = ['Person1', 'Person2', 'Person3', 'Person4', 'Person5', 'Person6', 'Person7', 'Person8', 'Person9', 'Person10']\n",
    "x = np.arange(len(labels))  # the label locations\n",
    "width = 0.4  # the width of the bars\n",
    "\n",
    "fig, ax = plt.subplots(figsize = (12,6))\n",
    "rects1 = ax.bar(x - width/2, Y_test[0:10], width, label='Ground Truth')\n",
    "rects2 = ax.bar(x + width/2, Y_test_pred2[0:10], width, label='Prediction')\n",
    "\n",
    "ax.set_title(\"Ridge Regression\")\n",
    "ax.set_xlabel(\"Data Sample\")\n",
    "ax.set_ylabel('Average/Mean Score')\n",
    "ax.set_xticks(x)\n",
    "ax.set_xticklabels(labels)\n",
    "ax.legend()\n",
    "\n",
    "plt.show()\n",
    "#From this plot, we can see the learned model does well to generalize on the testing set.\n",
    "\n",
    "#The Ridge Regression and Linear Regression produce almost identifical adults with alpha =0.1, so both perform well. \n",
    "#To compare the ridge regression and linear regression models, I will use percent difference calculations:\n",
    "#Percent Difference = (|Value 1 – Value 2|)/([Value 1 + Value 2]/2) * 100%\n",
    "\n",
    "print(\"Percent Difference between Ridge Regression and Linear Regression: \")\n",
    "maepd = ( (abs(mae - mae2))/((mae + mae2)/2) ) * 100\n",
    "msepd = ( (abs(mse - mse2))/((mse + mse2)/2) ) * 100\n",
    "rmsepd = ( (abs(rmse - rmse2))/((rmse + rmse2)/2) ) * 100\n",
    "print(\"Percent Difference for MAE is: {}%\".format(maepd))\n",
    "print(\"Percent Difference for MSE is: {}%\".format(msepd))\n",
    "print(\"Percent Difference for RMSE is: {}%\".format(rmsepd))\n",
    "#Since these percent difference values are so small, one can say that ridge regression and linear regression perform almost identically\n",
    "\n",
    "\n",
    "\n",
    "#I was unable to show the work of me changing the alpha values.\n",
    "#It would not print out the updates error values for the new alpha values.\n",
    "#However, by testing different lambdas, one notices that as lambda values increases, the performance of the ridge regression model on the testing set worsens.\n",
    "#This is because if one's lambda value is too high, the model will be simple, but they run the risk of underfitting the data. It will not learn enough about the training data to make useful predictions\n",
    "#Lambda values becoming incrementally smaller than 0.1 were also tested. \n",
    "#Once the lambda values became extremely small, the model became more complex and ran the risk of overfitting the data."
   ]
  },
  {
   "cell_type": "markdown",
   "id": "f4fa25bf-2301-4b74-a06f-7ae151cbdbe8",
   "metadata": {},
   "source": [
    "By comparing the ground truth and prediction for a sample of the data, one can see that the learned ridge regression model does well to generalize on the testing set. In other words, it is satisfactory to use the categorical features in the dataset to predict student performance on examinations. Also, the small percent difference values between the ridge and linear regression models suggest they perform very similarly."
   ]
  },
  {
   "cell_type": "markdown",
   "id": "badbeeaf-1644-433e-8e19-6583a3953895",
   "metadata": {},
   "source": [
    "## Logistic Regression #1: Student Exam Pass Status Based on Categorical Features: <a id = 'logisticcat'></a>"
   ]
  },
  {
   "cell_type": "markdown",
   "id": "e92de112-ae46-4095-b73f-d5757bd508a4",
   "metadata": {},
   "source": [
    "Here, I will build a logisitic regression model to determine which categorical features do the best job at classifying students as passing or failing their examinations. I will use the extended dataframe I made so that I have access to Pass/Fail status"
   ]
  },
  {
   "cell_type": "markdown",
   "id": "57a1536f-0b44-43e6-9468-b0b3d666f787",
   "metadata": {},
   "source": [
    "### Splitting the Dataset: <a id = 'logisticcatsplit'></a>"
   ]
  },
  {
   "cell_type": "code",
   "execution_count": 40,
   "id": "026615d9-dafd-461d-a952-05ffb0a8993a",
   "metadata": {},
   "outputs": [
    {
     "name": "stdout",
     "output_type": "stream",
     "text": [
      "train_val: 800, test: 200\n",
      "(200, 5)\n",
      "(800, 5)\n"
     ]
    }
   ],
   "source": [
    "#Splitting the samples:\n",
    "target_fea = df.drop(['Math_Pass_Status','Reading_Pass_Status', 'Writing_Pass_Status', 'Overall_Pass_Status', 'Grade', 'math score', 'reading score', 'writing score', 'average score'], axis=1).values\n",
    "target_prediction = df['Overall_Pass_Status'].values\n",
    "\n",
    "\n",
    "#Here, we use 20% of samples as the testing set and use the remaining samples to train the logistic regression model.\n",
    "#Thus, there are 200 of the samples in the testing set and 800 of the samples to train the logistic regression model. This is important for later so that we can evenly split into 10 folds.\n",
    "X_train_val, X_test, y_train_val, y_test = train_test_split(target_fea, target_prediction, \n",
    "                                                            test_size=0.20, \n",
    "                                                            random_state=0)\n",
    "print(\"train_val: {}, test: {}\".format(X_train_val.shape[0], X_test.shape[0]))\n",
    "\n",
    "#Normalizing the features:\n",
    "normalizer = StandardScaler()\n",
    "X_train_val = normalizer.fit_transform(X_train_val)\n",
    "X_test = normalizer.transform(X_test)\n",
    "\n",
    "print(X_test.shape)\n",
    "print(X_train_val.shape)"
   ]
  },
  {
   "cell_type": "markdown",
   "id": "300b5a10-aea6-4b64-bb37-e3ffa433a5f4",
   "metadata": {},
   "source": [
    "### Training the logistic regression model and selecting the hyperparameter with cross-validation: <a id = 'logisticcattrain'></a>\n",
    "\n",
    "\\begin{equation}\n",
    "\t\\min_{\\mathbf{w}} \\sum_{i=1}^{n}\\{\\log(1+\\exp(\\mathbf{w}^T\\mathbf{x}_i))-y_i\\mathbf{w}^T\\mathbf{x}_i \\} + \\lambda\\|\\mathbf{w}\\|_2^2\n",
    "\\end{equation}\n",
    "\n",
    "* I will use the 10-fold cross-validation to select the hyperparameter $\\lambda$.\n",
    "* Furthermore, I will search $\\lambda$ from $\\{10^{-5}, 10^{-4}, 10^{-3}, 10^{-2}, 10^{-1}, 1, 10, 20, 50, 100\\}$\n"
   ]
  },
  {
   "cell_type": "code",
   "execution_count": 41,
   "id": "0e21eaa1-e3c2-42e0-ae69-22b7775a20f2",
   "metadata": {},
   "outputs": [
    {
     "name": "stdout",
     "output_type": "stream",
     "text": [
      "[[726 300 371  35 774  88 131   9 434 688 568 103 327 700 705 267 690 523\n",
      "  275 736 393 292 775  97 521 562 412  20 365 317 355 651 538 441 177 537\n",
      "  350 658 572 368 124 729 130 135 668 447 767 642 696 194  81 265 328 464\n",
      "  296 178 662 753  76 556 295 759 403 118 640  59 228 232   3 420 128 585\n",
      "  433 119 519 224 503 628 432 532]\n",
      " [366 165 469 737 437 492 256 416 394  38 744 741 666 276 347 606 253  27\n",
      "  734 287 203 577 545 633 151 677 121 414 716 336 320 153 581 468 423 435\n",
      "  302 425 190 142 500 712 515 133 299 156  26 242 159 505 192 458  55 404\n",
      "  496 671 318 161 613 748 289 689 743 173 667 209 379  11 288 781 681  51\n",
      "  409 171 401 670 462 605 152 390]\n",
      " [ 79 552 594 481 779 175 100 463 479 245 576 570 655  43 602 457 450 326\n",
      "  309 187 184 470 698 678 402 284 191 573 614 484  91 246 354 250 795 315\n",
      "  216 269  60 321 501 168 241 785 788 301 448 210 571 625 316 593 202 132\n",
      "  499 158 451 257 431 290 738 644  14 333  18 293  69 231 154 411 426  25\n",
      "  436 507  49 362 247 510 723 599]\n",
      " [233 195 473 186 283 490 566  41 620 141 378 475 750 421 382 218 308 487\n",
      "   98  36 598 452 553 782 337 765 709  40 150 516 259 580 777 160 535 148\n",
      "  582 474  66 491 188 215 134 595 672 331 304 346 127 419 652 511 656  31\n",
      "  117 176 205 646 686   4 731  73 720 319 120 626 478 225 489 520 422  46\n",
      "  579 639  77 565 418 207 102 220]\n",
      " [702 112  74  50 485 169 588  83   2 359 358 648 214  92 196 105  42 380\n",
      "  638  48 260 791 508 364 109 376 477 353 427 227 663 314 282 180 235  62\n",
      "  669  54 243 772 146 392 687 792 199  96 286 746 222 339 261 509 212 115\n",
      "  693 410 542 399 564 406 493 607 343 438  57 486 596 634 617 675 374 126\n",
      "  563  15 280 685 335 769   5 704]\n",
      " [206 754 106 530  19 123 108 428  68 252  78 182 264 223 334 740 546 291\n",
      "   30 526 560 561 408 592 200 325  34 266 664 657 143 285 279 635 226 524\n",
      "   47 590 144 114 239 255 155  99 694 608 732 541 453 697 735  23 101 665\n",
      "  711 502 692 310  22 217 183 213  86 763 601 776 727 755 528 116 543 373\n",
      "  164   7 615 297 361 706 637 307]\n",
      " [454 619 616 258 237 710 622 306 113 482 584 189 445 166  72 277 641 618\n",
      "  273 244  67 375 659 338 219 764 540  93 647 757 172 281 466 254 352 449\n",
      "  794 456 248 609 476 793 305 397  52 389  56 591 514 536 554 303  70 708\n",
      "  385 179 756 758 384 674 621 391 725 680 555 768 221 367 770 722 370 471\n",
      "  369 786 125 604 695 771 630 699]\n",
      " [229 405 597 733 263 612 589 504 691 784 629 136 636 717 349  85 324  87\n",
      "  236 745 798 198  17 204 517 201  82 624 766 742 270 329 208 249 518 676\n",
      "   95 796 583 230 631 558 107 512 752 140 569 527 627 332 751 162  28 439\n",
      "  311 461 460 357 679 465 139  63 442 395 603 170 122 529 780 547 762 377\n",
      "  398 760 149 313 550 713 531  58]\n",
      " [ 80 240 381 147  65 730 778  24 356 424 719 789  33 483 721 330  29 413\n",
      "  650 559 715 773 548   8 443 724 707 363 728  64 632 111   0 430 649 739\n",
      "  278 703 262 761 197 714 137  10  45 472 387 455 790 157 181 495 557 238\n",
      "  645 506 294 747  61 513 544 415 234 360  13 372 643  90 600 193  16 344\n",
      "  586 396 467  75 400 567 783 342]\n",
      " [174 268 673 498  84 185 660  32 522 383 429 684 533 497 610 682 653 551\n",
      "  701 444 525 661 407  12 322 578 539 654 623 211 494 534 351 312  37 480\n",
      "  271 488 587 440 298  21 129 145 683  94  44 104 459 749 323   6  71 386\n",
      "  611 797 446   1 167 251 718 341 574 345 138 163 799 348 340 575 549 388\n",
      "   39 110 272 417 787  89 274  53]]\n",
      "reg_coeff: 99999.99999999999, acc: 0.603\n",
      "reg_coeff: 1000.0, acc: 0.603\n",
      "reg_coeff: 100.0, acc: 0.666\n",
      "reg_coeff: 10.0, acc: 0.671\n",
      "reg_coeff: 1.0, acc: 0.671\n",
      "reg_coeff: 0.1, acc: 0.671\n",
      "reg_coeff: 0.05, acc: 0.671\n",
      "reg_coeff: 0.02, acc: 0.671\n",
      "reg_coeff: 0.01, acc: 0.671\n",
      "Best Accuracy: 0.6712 \n",
      "Best Reg: 0.1\n"
     ]
    }
   ],
   "source": [
    "#We need to learn the model parameter  𝐰 . \n",
    "#However, with different hyperparameters  𝜆 , we can get different model parameter  𝐰 , resulting in different prediction performance. \n",
    "#Thus, we will use the 10-fold cross-validation to select the hyperparameter  𝜆 .\n",
    "\n",
    "#Here we set the folds equal to 10 for 10-fold cross-validation\n",
    "folds = 10\n",
    "\n",
    "#We get the number of samples in the training and validation set\n",
    "num_train_val = X_train_val.shape[0] \n",
    "\n",
    "#Now, we shuffle the index of samples in the train_val set\n",
    "index_of_samples = np.arange(num_train_val) \n",
    "shuffle(index_of_samples)\n",
    "\n",
    "#We split the index of the train_valid set into 10 folds\n",
    "index_of_folds = index_of_samples.reshape(folds, -1)\n",
    "print(index_of_folds)\n",
    "\n",
    "#As suggested above, the hyperparameters chosen are listed below\n",
    "regularization_coefficient = [10**(-5), 10**(-3), 10**(-2), 10**(-1), 1, 10, 20, 50, 100]\n",
    "\n",
    "#Variables we create to store the values of the best accuracy and best regression:\n",
    "best_acc = 0.0\n",
    "best_reg = 0.0\n",
    "\n",
    "for reg in regularization_coefficient:\n",
    "    #10-fold cross-validation\n",
    "    sum_acc = 0.0\n",
    "    for fold in range(folds):\n",
    "        \n",
    "        index_of_folds_temp = index_of_folds.copy()\n",
    "        \n",
    "        #We are getting the index of the validation set and storing it in a variable valid_index\n",
    "        valid_index = index_of_folds_temp[fold,:].reshape(-1) \n",
    "        #We are getting the index of the training set and storing it in a variable train_index\n",
    "        train_index = np.delete(index_of_folds_temp, fold, 0).reshape(-1)\n",
    "        \n",
    "        #Our training set:\n",
    "        X_train = X_train_val[train_index]\n",
    "        y_train = y_train_val[train_index]\n",
    "        \n",
    "        #Our validation set:\n",
    "        X_valid = X_train_val[valid_index]\n",
    "        y_valid = y_train_val[valid_index]\n",
    "                \n",
    "        #We write this to build the model with different hyperparameters:\n",
    "        clf = LogisticRegression(penalty='l2', C=reg, solver='lbfgs')\n",
    "        \n",
    "        #Train the model with the training set:\n",
    "        clf.fit(X_train, y_train)\n",
    "        \n",
    "        y_valid_pred = clf.predict(X_valid)\n",
    "        acc = accuracy_score(y_valid, y_valid_pred)\n",
    "        \n",
    "        sum_acc += acc\n",
    "    \n",
    "    cur_acc = sum_acc / folds\n",
    "    \n",
    "    print(\"reg_coeff: {}, acc: {:.3f}\".format(1.0/reg, cur_acc))\n",
    "    \n",
    "    #We now want to store the best hyperparameter:\n",
    "    if cur_acc > best_acc:\n",
    "        best_acc = cur_acc\n",
    "        best_reg = reg\n",
    "        \n",
    "print(\"Best Accuracy: {:.4f} \".format(best_acc))\n",
    "print(\"Best Reg: {:}\".format(best_reg))\n"
   ]
  },
  {
   "cell_type": "markdown",
   "id": "5f3df648-3fe9-4839-91d4-dc96773bcc82",
   "metadata": {},
   "source": [
    "### Retraining and Evaluating the Model with the Best Hyperparamter: <a id = 'logisticcatretrain'></a>"
   ]
  },
  {
   "cell_type": "code",
   "execution_count": 42,
   "id": "0c20b76b-dd4b-4c05-8c5c-8b12d98a83a6",
   "metadata": {},
   "outputs": [
    {
     "name": "stdout",
     "output_type": "stream",
     "text": [
      "accuracy: 0.650, recall: 0.802, precision: 0.678, f1: 0.735,\n",
      "Our learned model parameter vector 'w':  [0.13543526 0.2805534  0.08924401 0.51588381 0.40817753]\n"
     ]
    },
    {
     "data": {
      "image/png": "[encoded data removed]",
      "text/plain": [
       "<Figure size 864x432 with 1 Axes>"
      ]
     },
     "metadata": {
      "needs_background": "light"
     },
     "output_type": "display_data"
    }
   ],
   "source": [
    "#Now that we have the best hyperparameter, we retrain the model:\n",
    "clf = LogisticRegression(penalty='l2', C=best_reg, solver='lbfgs')\n",
    "clf.fit(X_train_val, y_train_val)\n",
    "\n",
    "# evaluate the model on the testing set\n",
    "y_test_pred = clf.predict(X_test)\n",
    "\n",
    "\n",
    "acc = accuracy_score(y_test, y_test_pred)\n",
    "f1 = f1_score(y_test, y_test_pred)\n",
    "recall = recall_score(y_test, y_test_pred)\n",
    "precision = precision_score(y_test, y_test_pred)\n",
    "\n",
    "#Visualizing the elements of the learned model parameter vector w with a bar plot:\n",
    "print(\"accuracy: {:.3f}, recall: {:.3f}, precision: {:.3f}, f1: {:.3f},\".format(acc, recall, precision, f1))\n",
    "\n",
    "print(\"Our learned model parameter vector 'w': \", abs(clf.coef_[0]))\n",
    "\n",
    "import matplotlib.pyplot as plt\n",
    "fig = plt.figure(figsize=(12,6))\n",
    "ax = fig.add_axes([0,0,1,1])\n",
    "labels = ['gender', 'race/ethnicity', 'parental level of education', 'lunch', 'test preparation course']\n",
    "coefficients = abs(clf.coef_[0])\n",
    "ax.bar(labels, coefficients)\n",
    "plt.title(\"Bar Graph of Elements of the Learned Model Parameter Vector 'w'\")\n",
    "plt.xlabel('Features')\n",
    "plt.ylabel('Coefficients')\n",
    "plt.show()"
   ]
  },
  {
   "cell_type": "markdown",
   "id": "106a0f64-8e9e-4556-baec-fbcd72c2d75b",
   "metadata": {},
   "source": [
    "From this plot, we can see that some features have much greater coefficients in the learned model parameter than others.\n",
    "Specifically, lunch and test preparation course have the higher coefficient values.\n",
    "This means that these features were able to fit the logistic regression model with the hyperparameter best of all of the features. One could say having or not having lunch and/or a test preparation course are then good predictors of whether a student passes or fails an exam.\n",
    "It also tells us that lunch and test preparation course are more statistically significant than the other features. The closer the coefficient values are to 0, the less correlation exists (that is why we took the absolute value).\n",
    "\n",
    "It should be noted that, although we took the absolute value of the coefficients, a positive coefficient indicates that as the value of the independent variable increases, the mean of the dependent variable also tends to increase. \n",
    "A negative coefficient suggests that as the independent variable increases, the dependent variable tends to decrease."
   ]
  },
  {
   "cell_type": "markdown",
   "id": "76679682-0293-4578-bc9f-c9bfde2e0471",
   "metadata": {},
   "source": [
    "## Logistic Regression #2: Gender Prediction Based on Exam Scores: <a id = 'logisticgender'></a>"
   ]
  },
  {
   "cell_type": "markdown",
   "id": "e89d24c9-c1e0-48b0-9a3f-0de3bf3ea170",
   "metadata": {},
   "source": [
    "Here, I will build another logisitic regression model; however, this time I will try to determine if one's gender can be classified/predicted based on their examination scores. I will use the extended dataframe I made so that I have access to Pass/Fail status."
   ]
  },
  {
   "cell_type": "markdown",
   "id": "684d8906-7a9f-4f88-90b1-1e4cf989e6a4",
   "metadata": {},
   "source": [
    "### Splitting the Dataset: <a id = 'logisticgendersplit'></a>"
   ]
  },
  {
   "cell_type": "code",
   "execution_count": 43,
   "id": "a6016d65-34fd-4a91-aa42-3cbc596ea9ea",
   "metadata": {},
   "outputs": [
    {
     "name": "stdout",
     "output_type": "stream",
     "text": [
      "train_val: 800, test: 200\n",
      "(200, 4)\n",
      "(800, 4)\n"
     ]
    }
   ],
   "source": [
    "#Can we predict one's gender based on their math, reading, and writing scores?\n",
    "#Splitting the samples:\n",
    "target_fea = df.drop(['Math_Pass_Status','Reading_Pass_Status', 'Writing_Pass_Status', 'Overall_Pass_Status', 'Grade', 'gender', 'race/ethnicity', 'parental level of education', 'lunch', 'test preparation course'], axis=1).values\n",
    "target_prediction = df['gender'].values\n",
    "\n",
    "\n",
    "#Here, we use 20% of samples as the testing set and use the remaining samples to train the logistic regression model.\n",
    "#Thus, there are 200 of the samples in the testing set and 800 of the samples to train the logistic regression model. This is important for later so that we can evenly split into 10 folds.\n",
    "X_train_val, X_test, y_train_val, y_test = train_test_split(target_fea, target_prediction, \n",
    "                                                            test_size=0.20, \n",
    "                                                            random_state=0)\n",
    "print(\"train_val: {}, test: {}\".format(X_train_val.shape[0], X_test.shape[0]))\n",
    "\n",
    "#Normalizing the features:\n",
    "normalizer = StandardScaler()\n",
    "X_train_val = normalizer.fit_transform(X_train_val)\n",
    "X_test = normalizer.transform(X_test)\n",
    "\n",
    "print(X_test.shape)\n",
    "print(X_train_val.shape)"
   ]
  },
  {
   "cell_type": "markdown",
   "id": "8fee387e-62fc-4422-9233-19b88a8b69de",
   "metadata": {},
   "source": [
    "### Training the logistic regression model and selecting the hyperparameter with cross-validation: <a id = 'logisticgendertrain'></a>\n",
    "\n",
    "\\begin{equation}\n",
    "\t\\min_{\\mathbf{w}} \\sum_{i=1}^{n}\\{\\log(1+\\exp(\\mathbf{w}^T\\mathbf{x}_i))-y_i\\mathbf{w}^T\\mathbf{x}_i \\} + \\lambda\\|\\mathbf{w}\\|_2^2\n",
    "\\end{equation}\n",
    "\n",
    "* I will use the 10-fold cross-validation to select the hyperparameter $\\lambda$.\n",
    "* Furthermore, I will search $\\lambda$ from $\\{10^{-5}, 10^{-4}, 10^{-3}, 10^{-2}, 10^{-1}, 1, 10, 20, 50, 100\\}$\n"
   ]
  },
  {
   "cell_type": "code",
   "execution_count": 44,
   "id": "8c49c8a3-456d-42ca-ad18-6697051a56b8",
   "metadata": {},
   "outputs": [
    {
     "name": "stdout",
     "output_type": "stream",
     "text": [
      "[[285 339 270 378 748 250 156  32 208 216 492 553   6 665  80  56 255 217\n",
      "  563   0 770  45 729 140 453  22  53 502 312 406 586 750 565 608 295 133\n",
      "   30 294 774 526 281 139 617 491 732 152 315 206 233 199 637 789 110 680\n",
      "  546 797 397  34 528 416 390  76 322 520 150  15  43 562 287 795 301 513\n",
      "  671 400 609 471 379 182 372  74]\n",
      " [106 348 726 368  19 211 452 167 411 256 344 550 203 724 112 496 375 450\n",
      "    7 522 642 247 559 284  71 584 742 554 218 157 266  31 588 259 505 615\n",
      "  696 387 613 330 299 145 779 530 429   8 277   3 353 161 286 515  95 648\n",
      "  768 160 382 267 307 501 296 310  62 518 175 489 363 486 604 204 421 506\n",
      "   18  89 590 371 683 652  29  60]\n",
      " [305 148 262 719 763 758 682 610 485  55 753 463 431   5 695 778 761  61\n",
      "  523 282 508 413 661  24 380 788 428 626 745 215 766 747 739 468 635 632\n",
      "  601 228 548 524 542 708 516 558 706 395 583 735 456  57  83  44 646 657\n",
      "   46 594 576 460 769 691 137 422 587 325 291 710 433  86 715 127 573  13\n",
      "  479 578 495 404 622 462 290 180]\n",
      " [151 539 298 531 408 350 733 420 534  97 600 331 235 656 111 308 134 494\n",
      "  292 116 703 498 168 107 108 252 644 184  25 222 448 636 757 268 655 362\n",
      "  628 366 260 188 248 638 360 144 169 103 503 647 125 734 684 631  87 302\n",
      "  173 598  21 289 675 581 679 370  54 186 759 782  39  78 126 388 410 662\n",
      "  392  70 146 616 599 153  99 324]\n",
      " [ 17 792 109 346 264 101 321 591 490 343 749 541 254 320 337 694 507 741\n",
      "  261  37 668 728 113  98  67 464 347 551 796 484 265 469 418 440 725 709\n",
      "  122 381  20 317 650 504 545 142 213 572 434 470 640 672 224 423 773  69\n",
      "  645 641 574 399 214 288 589  28 564 444 205 141 467  88 606 271 639 634\n",
      "  407 633 396 251  93 603 790 436]\n",
      " [ 11 535 673 342 232 538 509 334   1 364 595 313 466 441 227 568 514 525\n",
      "  117 544 569 115 607 478 771   2 627 351 221 475 273 540 393 611 718 570\n",
      "  624  82 193 799 219 412 555 124 280 618 398 417 736 386 658 659 105 170\n",
      "  345 332 585 674 702  77 198 229 712 676 191 177 740 629   4 687  47 269\n",
      "  743 136 556 359 473 183 118  63]\n",
      " [488 190 727 245 253 744  59 154 435 756 374 383 415 225 720 171 135 722\n",
      "   12 785 791 389  49 596 278 223  36 258 580 623  94  72 552 533 419  92\n",
      "    9 698 667 663 241 272 304 257 593  79 549 537 236 414 566  16 181 309\n",
      "  567 121 510 592 760 582 202 149 794 451 685 716 197 147 163 442 443 738\n",
      "  499  23 723 605 130 461 174 314]\n",
      " [612 783 688 705 242  51 536 686 176 445 472 178  85 220 355  42 249 102\n",
      "   40 333 165 677 162 185  26 737 196 316  50 195 303 704 237 274 465 621\n",
      "  158 425 311 143 772 352 172 138 476 700 678 560 394 597 697 427 243 532\n",
      "  699 297 240 279 777 707 781 164  58 238 132 543 577 579 391 752 625 100\n",
      "  477 403  81 300 446 276 643 457]\n",
      " [649 651 493 776 201 166 319 226 731 762 246 338 212 798 482 630  35 547\n",
      "  231 369 787 619 327 155 666 323 293 209 755 329 512 401 455  27 701 754\n",
      "  620 341  64 767 376 340 385 402 519 306  96  52 780  41 458 447 751 670\n",
      "  660 432  66  84 194 179 377 123  91 263 200 104 384 521 367  75 786 119\n",
      "  500 424 714 336 234 357 187 192]\n",
      " [ 65 511 721 409 430 527 497 614  10 529 131 571 120 784 210 354  73 690\n",
      "  318 557 365 275 128 664 356 775 654 438 480 693 207 459 669 129 189  33\n",
      "  239 681 349 765 602 746 487 575 689 711 561 717 244 328 373 361 730  38\n",
      "  114  14 474 454 335  90 713 426 439 793  48 326 405 483 764 437  68 230\n",
      "  449 653 517 692 358 283 159 481]]\n",
      "reg_coeff: 99999.99999999999, acc: 0.524\n",
      "reg_coeff: 1000.0, acc: 0.653\n",
      "reg_coeff: 100.0, acc: 0.815\n",
      "reg_coeff: 10.0, acc: 0.861\n",
      "reg_coeff: 1.0, acc: 0.870\n",
      "reg_coeff: 0.1, acc: 0.870\n",
      "reg_coeff: 0.05, acc: 0.870\n",
      "reg_coeff: 0.02, acc: 0.870\n",
      "reg_coeff: 0.01, acc: 0.870\n",
      "Best Accuracy: 0.8700 \n",
      "Best Reg: 1\n"
     ]
    }
   ],
   "source": [
    "#We need to learn the model parameter  𝐰 . \n",
    "#However, with different hyperparameters  𝜆 , we can get different model parameter  𝐰 , resulting in different prediction performance. \n",
    "#Thus, we will use the 10-fold cross-validation to select the hyperparameter  𝜆 .\n",
    "\n",
    "#Here we set the folds equal to 10 for 10-fold cross-validation\n",
    "folds = 10\n",
    "\n",
    "#We get the number of samples in the training and validation set\n",
    "num_train_val = X_train_val.shape[0] \n",
    "\n",
    "#Now, we shuffle the index of samples in the train_val set\n",
    "index_of_samples = np.arange(num_train_val) \n",
    "shuffle(index_of_samples)\n",
    "\n",
    "#We split the index of the train_valid set into 10 folds\n",
    "index_of_folds = index_of_samples.reshape(folds, -1)\n",
    "print(index_of_folds)\n",
    "\n",
    "#As suggested above, the hyperparameters chosen are listed below\n",
    "regularization_coefficient = [10**(-5), 10**(-3), 10**(-2), 10**(-1), 1, 10, 20, 50, 100]\n",
    "\n",
    "#Variables we create to store the values of the best accuracy and best regression:\n",
    "best_acc = 0.0\n",
    "best_reg = 0.0\n",
    "\n",
    "for reg in regularization_coefficient:\n",
    "    #10-fold cross-validation\n",
    "    sum_acc = 0.0\n",
    "    for fold in range(folds):\n",
    "        \n",
    "        index_of_folds_temp = index_of_folds.copy()\n",
    "        \n",
    "        #We are getting the index of the validation set and storing it in a variable valid_index\n",
    "        valid_index = index_of_folds_temp[fold,:].reshape(-1) \n",
    "        #We are getting the index of the training set and storing it in a variable train_index\n",
    "        train_index = np.delete(index_of_folds_temp, fold, 0).reshape(-1)\n",
    "        \n",
    "        #Our training set:\n",
    "        X_train = X_train_val[train_index]\n",
    "        y_train = y_train_val[train_index]\n",
    "        \n",
    "        #Our validation set:\n",
    "        X_valid = X_train_val[valid_index]\n",
    "        y_valid = y_train_val[valid_index]\n",
    "                \n",
    "        #We write this to build the model with different hyperparameters:\n",
    "        clf = LogisticRegression(penalty='l2', C=reg, solver='lbfgs')\n",
    "        \n",
    "        #Train the model with the training set:\n",
    "        clf.fit(X_train, y_train)\n",
    "        \n",
    "        y_valid_pred = clf.predict(X_valid)\n",
    "        acc = accuracy_score(y_valid, y_valid_pred)\n",
    "        \n",
    "        sum_acc += acc\n",
    "    \n",
    "    cur_acc = sum_acc / folds\n",
    "    \n",
    "    print(\"reg_coeff: {}, acc: {:.3f}\".format(1.0/reg, cur_acc))\n",
    "    \n",
    "    #We now want to store the best hyperparameter:\n",
    "    if cur_acc > best_acc:\n",
    "        best_acc = cur_acc\n",
    "        best_reg = reg\n",
    "        \n",
    "print(\"Best Accuracy: {:.4f} \".format(best_acc))\n",
    "print(\"Best Reg: {:}\".format(best_reg))\n"
   ]
  },
  {
   "cell_type": "markdown",
   "id": "8195331a-75a9-4274-8a95-9937b347685d",
   "metadata": {},
   "source": [
    "### Retraining and Evaluating the Model with the Best Hyperparameter: <a id = 'logisticgenderretrain'></a>"
   ]
  },
  {
   "cell_type": "code",
   "execution_count": 45,
   "id": "ab4657f2-bbb0-48ad-b442-2f6807762027",
   "metadata": {},
   "outputs": [
    {
     "name": "stdout",
     "output_type": "stream",
     "text": [
      "accuracy: 0.890, recall: 0.861, precision: 0.916, f1: 0.888,\n",
      "Our learned model parameter vector 'w':  [4.4991212  1.01487776 3.76939602 0.08709338]\n"
     ]
    },
    {
     "data": {
      "image/png": "[encoded data removed]",
      "text/plain": [
       "<Figure size 864x432 with 1 Axes>"
      ]
     },
     "metadata": {
      "needs_background": "light"
     },
     "output_type": "display_data"
    }
   ],
   "source": [
    "#Now that we have the best hyperparameter, we retrain the model:\n",
    "clf = LogisticRegression(penalty='l2', C=best_reg, solver='lbfgs')\n",
    "clf.fit(X_train_val, y_train_val)\n",
    "\n",
    "# evaluate the model on the testing set\n",
    "y_test_pred = clf.predict(X_test)\n",
    "\n",
    "\n",
    "acc = accuracy_score(y_test, y_test_pred)\n",
    "f1 = f1_score(y_test, y_test_pred)\n",
    "recall = recall_score(y_test, y_test_pred)\n",
    "precision = precision_score(y_test, y_test_pred)\n",
    "\n",
    "#Visualizing the elements of the learned model parameter vector w with a bar plot:\n",
    "print(\"accuracy: {:.3f}, recall: {:.3f}, precision: {:.3f}, f1: {:.3f},\".format(acc, recall, precision, f1))\n",
    "\n",
    "print(\"Our learned model parameter vector 'w': \", abs(clf.coef_[0]))\n",
    "\n",
    "import matplotlib.pyplot as plt\n",
    "fig = plt.figure(figsize=(12,6))\n",
    "ax = fig.add_axes([0,0,1,1])\n",
    "labels = ['math score', 'reading score', 'writing score', 'average score']\n",
    "coefficients = abs(clf.coef_[0])\n",
    "ax.bar(labels, coefficients)\n",
    "plt.title(\"Bar Graph of Elements of the Learned Model Parameter Vector 'w'\")\n",
    "plt.xlabel('Scores')\n",
    "plt.ylabel('Coefficients')\n",
    "plt.show()"
   ]
  },
  {
   "cell_type": "markdown",
   "id": "071a5cdd-5634-4805-9a41-60d2e1b7c03a",
   "metadata": {},
   "source": [
    "From this bar graph, we can see that some scores have much greater coefficients in the learned model parameter than others. Specifically, math and writing scores have the higher coefficient values. This means that these scores were able to fit the logistic regression model with the hyperparameter best of all of the features. One could say that, of the scores provided, the math and writing scores are the best predictors of a student's gender. The closer the coefficient values are to 0, the less correlation exists (that is why we took the absolute value). Thus, the reading and average scores are not good predictors of one's gender. One can then say that there is not a clear distinction between which gender performs better on reading examinations (no correlation). It makes sense for the average score to not be a good predictor of one's gender because this score value is not representative of a single subject/category nor the person's actual score (it is an average). \n",
    "\n",
    "It should be noted that, although we took the absolute value of the coefficients, a positive coefficient indicates that as the value of the independent variable increases, the mean of the dependent variable also tends to increase. A negative coefficient suggests that as the independent variable increases, the dependent variable tends to decrease."
   ]
  },
  {
   "cell_type": "markdown",
   "id": "7388c5a0-e364-49fa-b2bc-d147f5ec8a35",
   "metadata": {},
   "source": [
    "## Decision Tree Regressor:"
   ]
  },
  {
   "cell_type": "code",
   "execution_count": 13,
   "id": "dd9b0ef3-51ce-4275-911e-9aabdeb483d2",
   "metadata": {},
   "outputs": [],
   "source": [
    "#Additional Imports\n",
    "from sklearn.tree import DecisionTreeClassifier # Import Decision Tree Classifier\n",
    "from sklearn.tree import DecisionTreeRegressor # Import Decision Tree Regressor\n",
    "from sklearn.model_selection import train_test_split # Import train_test_split function\n",
    "from sklearn import metrics #Import scikit-learn metrics module for accuracy calculation"
   ]
  },
  {
   "cell_type": "markdown",
   "id": "f03af06f-9932-474f-b7c3-9d2ba8955da5",
   "metadata": {},
   "source": [
    "### Splitting the Dataset:"
   ]
  },
  {
   "cell_type": "code",
   "execution_count": 46,
   "id": "55947ec8-4704-41b5-9040-d58e7fc8d602",
   "metadata": {},
   "outputs": [
    {
     "name": "stdout",
     "output_type": "stream",
     "text": [
      "(800, 5)\n",
      "(200, 5)\n"
     ]
    }
   ],
   "source": [
    "#The dataset will be split into a training set with 80% of samples and a test set with 20% of samples\n",
    "#The training set is used to learn model parameters and the testing set is used to evaluate the learned model\n",
    "\n",
    "#Splitting the samples:\n",
    "student_performance_fea = df.drop(['reading score','writing score','math score','average score', 'Math_Pass_Status', 'Reading_Pass_Status', 'Writing_Pass_Status', 'Overall_Pass_Status', 'Grade'], axis=1).values\n",
    "target = df['average score'].values\n",
    "\n",
    "X_train, X_test, Y_train, Y_test = train_test_split(student_performance_fea,\n",
    "                                                 target,\n",
    "                                                 test_size=0.2,\n",
    "                                                 random_state=1)\n",
    "print(X_train.shape)\n",
    "print(X_test.shape)\n",
    "#It makes sense that there are 800 values in the training set because this is 80% of the total number of values.\n",
    "#It then also makes sense that there are 200 values in the testing set because this is 20% of the total number of values.\n",
    "\n",
    "#Normalizing the features:\n",
    "normalizer = StandardScaler()\n",
    "X_train = normalizer.fit_transform(X_train)\n",
    "X_test = normalizer.transform(X_test)"
   ]
  },
  {
   "cell_type": "code",
   "execution_count": 47,
   "id": "0ec525fd-c4e2-459b-bb48-abae3623324f",
   "metadata": {},
   "outputs": [],
   "source": [
    "# Building the Decision Tree Model through Scikit Learn:\n",
    "\n",
    "# Create Decision Tree regressor object\n",
    "clf = DecisionTreeRegressor()\n",
    "\n",
    "# Train Decision Tree Regressor\n",
    "clf = clf.fit(X_train,Y_train)\n",
    "\n",
    "#Predict the response for test dataset\n",
    "y_pred = clf.predict(X_test)"
   ]
  },
  {
   "cell_type": "code",
   "execution_count": 48,
   "id": "256c42a2-c00b-4d84-890c-1cff94991cde",
   "metadata": {},
   "outputs": [],
   "source": [
    "#Function for Performance Metrics:\n",
    "def reg_metrics(y_test, y_pred, X_train):\n",
    "    from sklearn.metrics import mean_squared_error, r2_score \n",
    "    \n",
    "    mae = mean_absolute_error(y_test, y_pred)\n",
    "    mse = mean_squared_error(y_test,y_pred)\n",
    "    rmse = np.sqrt(mean_squared_error(y_test,y_pred))\n",
    "    r2 = r2_score(y_test,y_pred)\n",
    "\n",
    "    print('Prediction for the testing set:')\n",
    "    print('MAE is: {}'.format(mae))\n",
    "    print('MSE is: {}'.format(mse))\n",
    "    print('RMSE is: {}'.format(rmse))\n",
    "    print('R^2 is: {}'.format(r2))"
   ]
  },
  {
   "cell_type": "code",
   "execution_count": 49,
   "id": "c8125029-3c69-42c3-9e55-f67ab507c4c0",
   "metadata": {},
   "outputs": [
    {
     "name": "stdout",
     "output_type": "stream",
     "text": [
      "Prediction for the testing set:\n",
      "MAE is: 11.491719664594665\n",
      "MSE is: 212.67447977795615\n",
      "RMSE is: 14.58336311616618\n",
      "R^2 is: -0.005353504025444877\n"
     ]
    }
   ],
   "source": [
    "#Model Evaluation:\n",
    "reg_metrics(Y_test, y_pred, X_train)"
   ]
  },
  {
   "cell_type": "code",
   "execution_count": 50,
   "id": "71feec0d-6e9e-40a0-acb8-8c1744aea5cf",
   "metadata": {},
   "outputs": [
    {
     "name": "stdout",
     "output_type": "stream",
     "text": [
      "Collecting graphviz\n",
      "  Downloading graphviz-0.19.1-py3-none-any.whl (46 kB)\n",
      "Installing collected packages: graphviz\n",
      "Successfully installed graphviz-0.19.1\n",
      "Note: you may need to restart the kernel to use updated packages.\n"
     ]
    }
   ],
   "source": [
    "pip install graphviz"
   ]
  },
  {
   "cell_type": "code",
   "execution_count": 51,
   "id": "223bf364-7ad3-4d34-a1f7-910ecfb6564c",
   "metadata": {},
   "outputs": [
    {
     "name": "stdout",
     "output_type": "stream",
     "text": [
      "Collecting pydotplus\n",
      "  Downloading pydotplus-2.0.2.tar.gz (278 kB)\n",
      "Requirement already satisfied: pyparsing>=2.0.1 in c:\\users\\aruna\\anaconda3\\lib\\site-packages (from pydotplus) (2.4.7)\n",
      "Building wheels for collected packages: pydotplus\n",
      "  Building wheel for pydotplus (setup.py): started\n",
      "  Building wheel for pydotplus (setup.py): finished with status 'done'\n",
      "  Created wheel for pydotplus: filename=pydotplus-2.0.2-py3-none-any.whl size=24566 sha256=a805313410b217b2bd77d794a7c5b07b51e4baf488798b919ade19baf107fd3c\n",
      "  Stored in directory: c:\\users\\aruna\\appdata\\local\\pip\\cache\\wheels\\fe\\cd\\78\\a7e873cc049759194f8271f780640cf96b35e5a48bef0e2f36\n",
      "Successfully built pydotplus\n",
      "Installing collected packages: pydotplus\n",
      "Successfully installed pydotplus-2.0.2\n",
      "Note: you may need to restart the kernel to use updated packages.\n"
     ]
    }
   ],
   "source": [
    "pip install pydotplus"
   ]
  },
  {
   "cell_type": "code",
   "execution_count": 56,
   "id": "7465cc2d-3040-4893-bc72-a092849ca799",
   "metadata": {},
   "outputs": [
    {
     "name": "stdout",
     "output_type": "stream",
     "text": [
      "Collecting package metadata (current_repodata.json): ...working... done\n",
      "Solving environment: ...working... done\n",
      "\n",
      "## Package Plan ##\n",
      "\n",
      "  environment location: C:\\Users\\aruna\\anaconda3\n",
      "\n",
      "  added / updated specs:\n",
      "    - graphviz\n",
      "\n",
      "\n",
      "The following packages will be downloaded:\n",
      "\n",
      "    package                    |            build\n",
      "    ---------------------------|-----------------\n",
      "    ca-certificates-2022.3.29  |       haa95532_0         122 KB\n",
      "    graphviz-2.38              |       hfd603c8_2        29.3 MB\n",
      "    openssl-1.1.1n             |       h2bbff1b_0         4.8 MB\n",
      "    ------------------------------------------------------------\n",
      "                                           Total:        34.3 MB\n",
      "\n",
      "The following NEW packages will be INSTALLED:\n",
      "\n",
      "  graphviz           pkgs/main/win-64::graphviz-2.38-hfd603c8_2\n",
      "\n",
      "The following packages will be UPDATED:\n",
      "\n",
      "  ca-certificates                       2022.2.1-haa95532_0 --> 2022.3.29-haa95532_0\n",
      "  openssl                                 1.1.1m-h2bbff1b_0 --> 1.1.1n-h2bbff1b_0\n",
      "\n",
      "\n",
      "\n",
      "Downloading and Extracting Packages\n",
      "\n",
      "ca-certificates-2022 | 122 KB    |            |   0% \n",
      "ca-certificates-2022 | 122 KB    | #3         |  13% \n",
      "ca-certificates-2022 | 122 KB    | ########## | 100% \n",
      "\n",
      "openssl-1.1.1n       | 4.8 MB    |            |   0% \n",
      "openssl-1.1.1n       | 4.8 MB    | #          |  10% \n",
      "openssl-1.1.1n       | 4.8 MB    | ##9        |  30% \n",
      "openssl-1.1.1n       | 4.8 MB    | ####6      |  47% \n",
      "openssl-1.1.1n       | 4.8 MB    | ######2    |  63% \n",
      "openssl-1.1.1n       | 4.8 MB    | ########3  |  84% \n",
      "openssl-1.1.1n       | 4.8 MB    | ########## | 100% \n",
      "\n",
      "graphviz-2.38        | 29.3 MB   |            |   0% \n",
      "graphviz-2.38        | 29.3 MB   | 1          |   2% \n",
      "graphviz-2.38        | 29.3 MB   | 5          |   5% \n",
      "graphviz-2.38        | 29.3 MB   | 8          |   9% \n",
      "graphviz-2.38        | 29.3 MB   | #1         |  12% \n",
      "graphviz-2.38        | 29.3 MB   | #4         |  14% \n",
      "graphviz-2.38        | 29.3 MB   | #6         |  17% \n",
      "graphviz-2.38        | 29.3 MB   | #9         |  19% \n",
      "graphviz-2.38        | 29.3 MB   | ##3        |  24% \n",
      "graphviz-2.38        | 29.3 MB   | ##6        |  27% \n",
      "graphviz-2.38        | 29.3 MB   | ##9        |  30% \n",
      "graphviz-2.38        | 29.3 MB   | ###2       |  33% \n",
      "graphviz-2.38        | 29.3 MB   | ###5       |  36% \n",
      "graphviz-2.38        | 29.3 MB   | ###8       |  39% \n",
      "graphviz-2.38        | 29.3 MB   | ####2      |  43% \n",
      "graphviz-2.38        | 29.3 MB   | ####5      |  46% \n",
      "graphviz-2.38        | 29.3 MB   | ####9      |  49% \n",
      "graphviz-2.38        | 29.3 MB   | #####3     |  53% \n",
      "graphviz-2.38        | 29.3 MB   | #####7     |  57% \n",
      "graphviz-2.38        | 29.3 MB   | ######     |  60% \n",
      "graphviz-2.38        | 29.3 MB   | ######4    |  64% \n",
      "graphviz-2.38        | 29.3 MB   | ######8    |  68% \n",
      "graphviz-2.38        | 29.3 MB   | #######2   |  72% \n",
      "graphviz-2.38        | 29.3 MB   | #######5   |  76% \n",
      "graphviz-2.38        | 29.3 MB   | #######8   |  79% \n",
      "graphviz-2.38        | 29.3 MB   | ########2  |  82% \n",
      "graphviz-2.38        | 29.3 MB   | ########5  |  86% \n",
      "graphviz-2.38        | 29.3 MB   | ########8  |  89% \n",
      "graphviz-2.38        | 29.3 MB   | #########2 |  93% \n",
      "graphviz-2.38        | 29.3 MB   | #########6 |  96% \n",
      "graphviz-2.38        | 29.3 MB   | ########## | 100% \n",
      "graphviz-2.38        | 29.3 MB   | ########## | 100% \n",
      "Preparing transaction: ...working... done\n",
      "Verifying transaction: ...working... done\n",
      "Executing transaction: ...working... done\n",
      "\n",
      "Note: you may need to restart the kernel to use updated packages.\n"
     ]
    }
   ],
   "source": [
    "conda install graphviz"
   ]
  },
  {
   "cell_type": "code",
   "execution_count": 57,
   "id": "7699c8d7-e6c0-4bfa-a066-c91b10a7e519",
   "metadata": {},
   "outputs": [
    {
     "ename": "InvocationException",
     "evalue": "GraphViz's executables not found",
     "output_type": "error",
     "traceback": [
      "\u001b[1;31m---------------------------------------------------------------------------\u001b[0m",
      "\u001b[1;31mInvocationException\u001b[0m                       Traceback (most recent call last)",
      "\u001b[1;32m<ipython-input-57-655a8aa1d6e6>\u001b[0m in \u001b[0;36m<module>\u001b[1;34m\u001b[0m\n\u001b[0;32m      9\u001b[0m                 special_characters=True,feature_names = ['gender', 'race/ethnicity', 'parental level of education', 'lunch', 'test preparation course'])\n\u001b[0;32m     10\u001b[0m \u001b[0mgraph\u001b[0m \u001b[1;33m=\u001b[0m \u001b[0mpydotplus\u001b[0m\u001b[1;33m.\u001b[0m\u001b[0mgraph_from_dot_data\u001b[0m\u001b[1;33m(\u001b[0m\u001b[0mdot_data\u001b[0m\u001b[1;33m.\u001b[0m\u001b[0mgetvalue\u001b[0m\u001b[1;33m(\u001b[0m\u001b[1;33m)\u001b[0m\u001b[1;33m)\u001b[0m\u001b[1;33m\u001b[0m\u001b[1;33m\u001b[0m\u001b[0m\n\u001b[1;32m---> 11\u001b[1;33m \u001b[0mgraph\u001b[0m\u001b[1;33m.\u001b[0m\u001b[0mwrite_png\u001b[0m\u001b[1;33m(\u001b[0m\u001b[1;34m'dtr.png'\u001b[0m\u001b[1;33m)\u001b[0m\u001b[1;33m\u001b[0m\u001b[1;33m\u001b[0m\u001b[0m\n\u001b[0m\u001b[0;32m     12\u001b[0m \u001b[0mImage\u001b[0m\u001b[1;33m(\u001b[0m\u001b[0mgraph\u001b[0m\u001b[1;33m.\u001b[0m\u001b[0mcreate_png\u001b[0m\u001b[1;33m(\u001b[0m\u001b[1;33m)\u001b[0m\u001b[1;33m)\u001b[0m\u001b[1;33m\u001b[0m\u001b[1;33m\u001b[0m\u001b[0m\n",
      "\u001b[1;32m~\\anaconda3\\lib\\site-packages\\pydotplus\\graphviz.py\u001b[0m in \u001b[0;36m<lambda>\u001b[1;34m(path, f, prog)\u001b[0m\n\u001b[0;32m   1808\u001b[0m                 \u001b[1;32mlambda\u001b[0m \u001b[0mpath\u001b[0m\u001b[1;33m,\u001b[0m\u001b[1;33m\u001b[0m\u001b[1;33m\u001b[0m\u001b[0m\n\u001b[0;32m   1809\u001b[0m                 \u001b[0mf\u001b[0m\u001b[1;33m=\u001b[0m\u001b[0mfrmt\u001b[0m\u001b[1;33m,\u001b[0m\u001b[1;33m\u001b[0m\u001b[1;33m\u001b[0m\u001b[0m\n\u001b[1;32m-> 1810\u001b[1;33m                 \u001b[0mprog\u001b[0m\u001b[1;33m=\u001b[0m\u001b[0mself\u001b[0m\u001b[1;33m.\u001b[0m\u001b[0mprog\u001b[0m\u001b[1;33m:\u001b[0m \u001b[0mself\u001b[0m\u001b[1;33m.\u001b[0m\u001b[0mwrite\u001b[0m\u001b[1;33m(\u001b[0m\u001b[0mpath\u001b[0m\u001b[1;33m,\u001b[0m \u001b[0mformat\u001b[0m\u001b[1;33m=\u001b[0m\u001b[0mf\u001b[0m\u001b[1;33m,\u001b[0m \u001b[0mprog\u001b[0m\u001b[1;33m=\u001b[0m\u001b[0mprog\u001b[0m\u001b[1;33m)\u001b[0m\u001b[1;33m\u001b[0m\u001b[1;33m\u001b[0m\u001b[0m\n\u001b[0m\u001b[0;32m   1811\u001b[0m             )\n\u001b[0;32m   1812\u001b[0m \u001b[1;33m\u001b[0m\u001b[0m\n",
      "\u001b[1;32m~\\anaconda3\\lib\\site-packages\\pydotplus\\graphviz.py\u001b[0m in \u001b[0;36mwrite\u001b[1;34m(self, path, prog, format)\u001b[0m\n\u001b[0;32m   1916\u001b[0m \u001b[1;33m\u001b[0m\u001b[0m\n\u001b[0;32m   1917\u001b[0m             \u001b[1;32melse\u001b[0m\u001b[1;33m:\u001b[0m\u001b[1;33m\u001b[0m\u001b[1;33m\u001b[0m\u001b[0m\n\u001b[1;32m-> 1918\u001b[1;33m                 \u001b[0mfobj\u001b[0m\u001b[1;33m.\u001b[0m\u001b[0mwrite\u001b[0m\u001b[1;33m(\u001b[0m\u001b[0mself\u001b[0m\u001b[1;33m.\u001b[0m\u001b[0mcreate\u001b[0m\u001b[1;33m(\u001b[0m\u001b[0mprog\u001b[0m\u001b[1;33m,\u001b[0m \u001b[0mformat\u001b[0m\u001b[1;33m)\u001b[0m\u001b[1;33m)\u001b[0m\u001b[1;33m\u001b[0m\u001b[1;33m\u001b[0m\u001b[0m\n\u001b[0m\u001b[0;32m   1919\u001b[0m         \u001b[1;32mfinally\u001b[0m\u001b[1;33m:\u001b[0m\u001b[1;33m\u001b[0m\u001b[1;33m\u001b[0m\u001b[0m\n\u001b[0;32m   1920\u001b[0m             \u001b[1;32mif\u001b[0m \u001b[0mclose\u001b[0m\u001b[1;33m:\u001b[0m\u001b[1;33m\u001b[0m\u001b[1;33m\u001b[0m\u001b[0m\n",
      "\u001b[1;32m~\\anaconda3\\lib\\site-packages\\pydotplus\\graphviz.py\u001b[0m in \u001b[0;36mcreate\u001b[1;34m(self, prog, format)\u001b[0m\n\u001b[0;32m   1957\u001b[0m             \u001b[0mself\u001b[0m\u001b[1;33m.\u001b[0m\u001b[0mprogs\u001b[0m \u001b[1;33m=\u001b[0m \u001b[0mfind_graphviz\u001b[0m\u001b[1;33m(\u001b[0m\u001b[1;33m)\u001b[0m\u001b[1;33m\u001b[0m\u001b[1;33m\u001b[0m\u001b[0m\n\u001b[0;32m   1958\u001b[0m             \u001b[1;32mif\u001b[0m \u001b[0mself\u001b[0m\u001b[1;33m.\u001b[0m\u001b[0mprogs\u001b[0m \u001b[1;32mis\u001b[0m \u001b[1;32mNone\u001b[0m\u001b[1;33m:\u001b[0m\u001b[1;33m\u001b[0m\u001b[1;33m\u001b[0m\u001b[0m\n\u001b[1;32m-> 1959\u001b[1;33m                 raise InvocationException(\n\u001b[0m\u001b[0;32m   1960\u001b[0m                     'GraphViz\\'s executables not found')\n\u001b[0;32m   1961\u001b[0m \u001b[1;33m\u001b[0m\u001b[0m\n",
      "\u001b[1;31mInvocationException\u001b[0m: GraphViz's executables not found"
     ]
    }
   ],
   "source": [
    "from sklearn.tree import export_graphviz\n",
    "from six import StringIO  \n",
    "from IPython.display import Image  \n",
    "import pydotplus\n",
    "\n",
    "dot_data = StringIO()\n",
    "export_graphviz(clf, out_file=dot_data,  \n",
    "                filled=True, rounded=True,\n",
    "                special_characters=True,feature_names = ['gender', 'race/ethnicity', 'parental level of education', 'lunch', 'test preparation course'])\n",
    "graph = pydotplus.graph_from_dot_data(dot_data.getvalue())  \n",
    "graph.write_png('dtr.png')\n",
    "Image(graph.create_png())"
   ]
  },
  {
   "cell_type": "code",
   "execution_count": null,
   "id": "28709f2e-c273-4acc-a0a6-64224949653c",
   "metadata": {},
   "outputs": [],
   "source": []
  },
  {
   "cell_type": "code",
   "execution_count": null,
   "id": "aa91ea26-b627-4c99-be02-0a12b4fb19fa",
   "metadata": {},
   "outputs": [],
   "source": []
  },
  {
   "cell_type": "code",
   "execution_count": null,
   "id": "ad69eb01-59cb-4fcb-9ccc-bb020233578f",
   "metadata": {},
   "outputs": [],
   "source": []
  },
  {
   "cell_type": "code",
   "execution_count": null,
   "id": "d6843ae4-101f-4edd-a106-6c476e7ba380",
   "metadata": {},
   "outputs": [],
   "source": []
  },
  {
   "cell_type": "markdown",
   "id": "0202cbe0-6062-4433-9b00-4d34549d543c",
   "metadata": {},
   "source": [
    "## Random Forest Regression:"
   ]
  },
  {
   "cell_type": "code",
   "execution_count": null,
   "id": "38593f83-944c-4a54-82b2-b5409690a644",
   "metadata": {},
   "outputs": [],
   "source": []
  }
 ],
 "metadata": {
  "kernelspec": {
   "display_name": "Python 3",
   "language": "python",
   "name": "python3"
  },
  "language_info": {
   "codemirror_mode": {
    "name": "ipython",
    "version": 3
   },
   "file_extension": ".py",
   "mimetype": "text/x-python",
   "name": "python",
   "nbconvert_exporter": "python",
   "pygments_lexer": "ipython3",
   "version": "3.8.8"
  }
 },
 "nbformat": 4,
 "nbformat_minor": 5
}
